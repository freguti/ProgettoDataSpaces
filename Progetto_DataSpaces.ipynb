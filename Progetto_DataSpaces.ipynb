{
  "nbformat": 4,
  "nbformat_minor": 0,
  "metadata": {
    "colab": {
      "name": "Progetto_DataSpaces.ipynb",
      "provenance": [],
      "collapsed_sections": [],
      "authorship_tag": "ABX9TyMnZy+gVnDyRgx2yae4/qwK",
      "include_colab_link": true
    },
    "kernelspec": {
      "name": "python3",
      "display_name": "Python 3"
    }
  },
  "cells": [
    {
      "cell_type": "markdown",
      "metadata": {
        "id": "view-in-github",
        "colab_type": "text"
      },
      "source": [
        "<a href=\"https://colab.research.google.com/github/freguti/ProgettoDataSpaces/blob/main/Progetto_DataSpaces.ipynb\" target=\"_parent\"><img src=\"https://colab.research.google.com/assets/colab-badge.svg\" alt=\"Open In Colab\"/></a>"
      ]
    },
    {
      "cell_type": "markdown",
      "metadata": {
        "id": "BjaEyBz9uvKw"
      },
      "source": [
        "#**Analysis of \"Predicting Pulsar Star\"**\n",
        "\n",
        "Simone Soncin - s263094\n",
        "\n",
        "Scaletta:\n",
        "\n",
        "- Analizzare dataset originale, fornendo informazioni sulla distribuzione dei dati e delle classi\n",
        "- Bilanciare il train dataset  \n",
        "- eseguire algoritmi di classificazione sul dataset modificato\n",
        "- ..."
      ]
    },
    {
      "cell_type": "markdown",
      "metadata": {
        "id": "EGPeKiMJDTMs"
      },
      "source": [
        "##**Indice**\n",
        "\n",
        " \n",
        "\n",
        "1. [Introduzione](#Introduzione)\n",
        "2. Analisi Dataset\n",
        "3. [PCA](#PCA)\n",
        "4. Bilanciamento Datadet\n",
        "5. Classificazione\n",
        "  *   Primo classificatore\n",
        "  *   Secondo classificatore\n",
        "6. Conclusioni\n",
        "\n",
        "\n",
        "\n",
        "\n",
        "\n",
        "\n",
        "\n",
        "\n"
      ]
    },
    {
      "cell_type": "code",
      "metadata": {
        "colab": {
          "base_uri": "https://localhost:8080/",
          "height": 53
        },
        "id": "ryFeLG06Dcox",
        "outputId": "e92e495c-ca8a-48ee-e702-7ec107f7d2ca"
      },
      "source": [
        "#Show/Hide code button\n",
        "from IPython.display import HTML\n",
        "HTML('''<script>\n",
        "code_show=true; \n",
        "function code_toggle() {\n",
        " if (code_show){\n",
        " $('div.input').hide();\n",
        " } else {\n",
        " $('div.input').show();\n",
        " }\n",
        " code_show = !code_show\n",
        "} \n",
        "$( document ).ready(code_toggle);\n",
        "</script>\n",
        "<form action=\"javascript:code_toggle()\">Il codice è stato nascosto per permettere una lettura più fluida. Per mostrarlo cliccare qui<br><input type=\"submit\" value=\"Abilita/Disabilita codice\"></form>''')"
      ],
      "execution_count": 2,
      "outputs": [
        {
          "output_type": "execute_result",
          "data": {
            "text/html": [
              "<script>\n",
              "code_show=true; \n",
              "function code_toggle() {\n",
              " if (code_show){\n",
              " $('div.input').hide();\n",
              " } else {\n",
              " $('div.input').show();\n",
              " }\n",
              " code_show = !code_show\n",
              "} \n",
              "$( document ).ready(code_toggle);\n",
              "</script>\n",
              "<form action=\"javascript:code_toggle()\">Il codice è stato nascosto per permettere una lettura più fluida. Per mostrarlo cliccare qui<br><input type=\"submit\" value=\"Abilita/Disabilita codice\"></form>"
            ],
            "text/plain": [
              "<IPython.core.display.HTML object>"
            ]
          },
          "metadata": {
            "tags": []
          },
          "execution_count": 2
        }
      ]
    },
    {
      "cell_type": "markdown",
      "metadata": {
        "id": "muG-UBR4Sp0g"
      },
      "source": [
        "<a name=\"introduzione\"></a>\n",
        "##**Introduzione**\n",
        "In questa tesina mi dedicherò ad analizzare un dataset, manipolare i dati per utilizzarli in maniera corretta e successivamente applicare dei modelli predittivi, identificando quale si comporta meglio nel nostro caso di studio.\n",
        "\n",
        "Le stelle pulsar sono delle stelle di neutroni che emettono un potente segnale radio dai poli misurabile dalla terra. Una stella pulsar ruota ad altissima velocità, rendendo questo segnale radio misurabile a tratti e fornendogli un pattern periodico che varia per ogni stella pulsar.\n",
        "\n",
        "Il dataset che utilizzerò è disponibile al link: https://www.kaggle.com/colearninglounge/predicting-pulsar-starintermediate?select=pulsar_data_train.csv \n",
        "\n",
        "Questo dataset contiene una serie di parametri continui discretizzati, i cui primi 4 sono derivati dal \"integrated pulse profile\", mentre gli ultimi 4 parametri sono ottenuti in maniera analoga dalla \"DM-SNR curve\".\n",
        "\n",
        "- Integrated profile: è ottenuto dal segnale periodico emesso dalla pulsar ed è univoco per ognuna di esse. Per questo motivo è utilizzato per identificarle a discapito del loro nome. \n",
        "- DM-SNR Curve: Dispersion Measure of the Signal to Noise Ratio in poche parole è la densità degli elettroni liberi lungo la linea ottica.\n",
        "\n",
        "I nostri parametri sono stati ottenuti da questi due dati, applicando rispettivamente la media, la deviazione standard, la curtosi (indica quanto sono spesse le code della distribuzione) e la simmetria statistica (asimmetria della distribuzione di probabilità rispetto alla sua media).\n",
        "\n",
        "Ecco la lista dettagliata dei parametri:\n",
        "- **Mean of the integrated profile**\n",
        "- **Standard deviation of the integrated profile**\n",
        "- **Excess kurtosis of the integrated profile**\n",
        "- **Skewness of the integrated profile**\n",
        "- **Mean of the DM-SNR curve**\n",
        "- **Standard deviation of the DM-SNR curve**\n",
        "- **Excess kurtosis of the DM-SNR curve**\n",
        "- **Skewness of the DM-SNR curve**\n",
        "\n",
        "Infine è presente un ultimo parametro discreto che indica se il segnale appartiene ad una pulsar (target_class = 1) o no (target_class = 0).\n",
        "\n",
        "###**Strumenti Utilizzati**\n",
        "TODO\n",
        "- Grafici: Per i grafici è stata utilizzata la libreria chart studio, che permette di creare dei grafici interattivi in maniera semplice ed intuitiva. Questo strumento ha il limite che non consente un upload di dati superiore ai 500Kb. Quando ho potuto ho provveduto a separare i grafici a coppie, ma nel caso della matrice di correlazione e del dendogramma ho optato per uno strumento più rudimentale, DA DEFINIRE"
      ]
    },
    {
      "cell_type": "markdown",
      "metadata": {
        "id": "NUhtNYajBu7q"
      },
      "source": [
        "##Utility"
      ]
    },
    {
      "cell_type": "code",
      "metadata": {
        "id": "rU9NzVhxkR6R",
        "colab": {
          "base_uri": "https://localhost:8080/"
        },
        "outputId": "f77a1ced-8a6d-47f9-bfe2-78a53627d3f4"
      },
      "source": [
        "#Capture removes the cell's output\n",
        "#%%capture\n",
        "#Imports\n",
        "import pandas as pd\n",
        "import numpy as np\n",
        "from google.colab import drive\n",
        "!pip install -U imbalanced-learn\n",
        "from imblearn.over_sampling import ADASYN\n",
        "from sklearn.datasets import make_classification\n",
        "from sklearn.preprocessing import StandardScaler, LabelEncoder\n",
        "import matplotlib.pyplot as plt\n",
        "!pip install nbconvert\n",
        "!pip install -q gwpy\n",
        "import plotly\n",
        "!pip install chart_studio\n",
        "import chart_studio\n",
        "import chart_studio.plotly as py\n",
        "import plotly.graph_objs as go\n",
        "import plotly.figure_factory as ff\n",
        "from sklearn.svm import SVC\n",
        "from imblearn.over_sampling import SMOTE\n",
        "from imblearn.under_sampling import RandomUnderSampler\n",
        "from imblearn.pipeline import Pipeline\n",
        "from sklearn.model_selection import cross_val_score\n",
        "from sklearn.metrics import roc_auc_score\n",
        "from numpy import mean\n",
        "\n",
        "#alla fine sarà da eseguire alla fine del notebook\n",
        "#%%capture\n",
        "#It's used to convert this notebook in HTML\n",
        "#!jupyter nbconvert --to html /content/drive/MyDrive/DataSpaces/Progetto_DataSpaces.ipynb"
      ],
      "execution_count": 3,
      "outputs": [
        {
          "output_type": "stream",
          "text": [
            "Collecting imbalanced-learn\n",
            "\u001b[?25l  Downloading https://files.pythonhosted.org/packages/80/98/dc784205a7e3034e84d41ac4781660c67ad6327f2f5a80c568df31673d1c/imbalanced_learn-0.8.0-py3-none-any.whl (206kB)\n",
            "\r\u001b[K     |█▋                              | 10kB 14.9MB/s eta 0:00:01\r\u001b[K     |███▏                            | 20kB 21.5MB/s eta 0:00:01\r\u001b[K     |████▊                           | 30kB 24.2MB/s eta 0:00:01\r\u001b[K     |██████▍                         | 40kB 21.1MB/s eta 0:00:01\r\u001b[K     |████████                        | 51kB 12.0MB/s eta 0:00:01\r\u001b[K     |█████████▌                      | 61kB 10.9MB/s eta 0:00:01\r\u001b[K     |███████████                     | 71kB 11.7MB/s eta 0:00:01\r\u001b[K     |████████████▊                   | 81kB 12.6MB/s eta 0:00:01\r\u001b[K     |██████████████▎                 | 92kB 13.4MB/s eta 0:00:01\r\u001b[K     |███████████████▉                | 102kB 13.1MB/s eta 0:00:01\r\u001b[K     |█████████████████▌              | 112kB 13.1MB/s eta 0:00:01\r\u001b[K     |███████████████████             | 122kB 13.1MB/s eta 0:00:01\r\u001b[K     |████████████████████▋           | 133kB 13.1MB/s eta 0:00:01\r\u001b[K     |██████████████████████▏         | 143kB 13.1MB/s eta 0:00:01\r\u001b[K     |███████████████████████▉        | 153kB 13.1MB/s eta 0:00:01\r\u001b[K     |█████████████████████████▍      | 163kB 13.1MB/s eta 0:00:01\r\u001b[K     |███████████████████████████     | 174kB 13.1MB/s eta 0:00:01\r\u001b[K     |████████████████████████████▋   | 184kB 13.1MB/s eta 0:00:01\r\u001b[K     |██████████████████████████████▏ | 194kB 13.1MB/s eta 0:00:01\r\u001b[K     |███████████████████████████████▊| 204kB 13.1MB/s eta 0:00:01\r\u001b[K     |████████████████████████████████| 215kB 13.1MB/s \n",
            "\u001b[?25hRequirement already satisfied, skipping upgrade: joblib>=0.11 in /usr/local/lib/python3.7/dist-packages (from imbalanced-learn) (1.0.1)\n",
            "Collecting scikit-learn>=0.24\n",
            "\u001b[?25l  Downloading https://files.pythonhosted.org/packages/a8/eb/a48f25c967526b66d5f1fa7a984594f0bf0a5afafa94a8c4dbc317744620/scikit_learn-0.24.2-cp37-cp37m-manylinux2010_x86_64.whl (22.3MB)\n",
            "\u001b[K     |████████████████████████████████| 22.3MB 70.2MB/s \n",
            "\u001b[?25hRequirement already satisfied, skipping upgrade: numpy>=1.13.3 in /usr/local/lib/python3.7/dist-packages (from imbalanced-learn) (1.19.5)\n",
            "Requirement already satisfied, skipping upgrade: scipy>=0.19.1 in /usr/local/lib/python3.7/dist-packages (from imbalanced-learn) (1.4.1)\n",
            "Collecting threadpoolctl>=2.0.0\n",
            "  Downloading https://files.pythonhosted.org/packages/c6/e8/c216b9b60cbba4642d3ca1bae7a53daa0c24426f662e0e3ce3dc7f6caeaa/threadpoolctl-2.2.0-py3-none-any.whl\n",
            "Installing collected packages: threadpoolctl, scikit-learn, imbalanced-learn\n",
            "  Found existing installation: scikit-learn 0.22.2.post1\n",
            "    Uninstalling scikit-learn-0.22.2.post1:\n",
            "      Successfully uninstalled scikit-learn-0.22.2.post1\n",
            "  Found existing installation: imbalanced-learn 0.4.3\n",
            "    Uninstalling imbalanced-learn-0.4.3:\n",
            "      Successfully uninstalled imbalanced-learn-0.4.3\n",
            "Successfully installed imbalanced-learn-0.8.0 scikit-learn-0.24.2 threadpoolctl-2.2.0\n",
            "Requirement already satisfied: nbconvert in /usr/local/lib/python3.7/dist-packages (5.6.1)\n",
            "Requirement already satisfied: traitlets>=4.2 in /usr/local/lib/python3.7/dist-packages (from nbconvert) (5.0.5)\n",
            "Requirement already satisfied: bleach in /usr/local/lib/python3.7/dist-packages (from nbconvert) (3.3.0)\n",
            "Requirement already satisfied: pandocfilters>=1.4.1 in /usr/local/lib/python3.7/dist-packages (from nbconvert) (1.4.3)\n",
            "Requirement already satisfied: jupyter-core in /usr/local/lib/python3.7/dist-packages (from nbconvert) (4.7.1)\n",
            "Requirement already satisfied: nbformat>=4.4 in /usr/local/lib/python3.7/dist-packages (from nbconvert) (5.1.3)\n",
            "Requirement already satisfied: pygments in /usr/local/lib/python3.7/dist-packages (from nbconvert) (2.6.1)\n",
            "Requirement already satisfied: defusedxml in /usr/local/lib/python3.7/dist-packages (from nbconvert) (0.7.1)\n",
            "Requirement already satisfied: entrypoints>=0.2.2 in /usr/local/lib/python3.7/dist-packages (from nbconvert) (0.3)\n",
            "Requirement already satisfied: mistune<2,>=0.8.1 in /usr/local/lib/python3.7/dist-packages (from nbconvert) (0.8.4)\n",
            "Requirement already satisfied: jinja2>=2.4 in /usr/local/lib/python3.7/dist-packages (from nbconvert) (2.11.3)\n",
            "Requirement already satisfied: testpath in /usr/local/lib/python3.7/dist-packages (from nbconvert) (0.5.0)\n",
            "Requirement already satisfied: ipython-genutils in /usr/local/lib/python3.7/dist-packages (from traitlets>=4.2->nbconvert) (0.2.0)\n",
            "Requirement already satisfied: packaging in /usr/local/lib/python3.7/dist-packages (from bleach->nbconvert) (20.9)\n",
            "Requirement already satisfied: six>=1.9.0 in /usr/local/lib/python3.7/dist-packages (from bleach->nbconvert) (1.15.0)\n",
            "Requirement already satisfied: webencodings in /usr/local/lib/python3.7/dist-packages (from bleach->nbconvert) (0.5.1)\n",
            "Requirement already satisfied: jsonschema!=2.5.0,>=2.4 in /usr/local/lib/python3.7/dist-packages (from nbformat>=4.4->nbconvert) (2.6.0)\n",
            "Requirement already satisfied: MarkupSafe>=0.23 in /usr/local/lib/python3.7/dist-packages (from jinja2>=2.4->nbconvert) (2.0.1)\n",
            "Requirement already satisfied: pyparsing>=2.0.2 in /usr/local/lib/python3.7/dist-packages (from packaging->bleach->nbconvert) (2.4.7)\n",
            "\u001b[K     |████████████████████████████████| 1.4MB 11.0MB/s \n",
            "\u001b[K     |████████████████████████████████| 10.3MB 57.4MB/s \n",
            "\u001b[K     |████████████████████████████████| 61kB 5.8MB/s \n",
            "\u001b[K     |████████████████████████████████| 61kB 5.8MB/s \n",
            "\u001b[K     |████████████████████████████████| 3.2MB 56.2MB/s \n",
            "\u001b[?25h  Building wheel for ligo-segments (setup.py) ... \u001b[?25l\u001b[?25hdone\n",
            "\u001b[31mERROR: albumentations 0.1.12 has requirement imgaug<0.2.7,>=0.2.5, but you'll have imgaug 0.2.9 which is incompatible.\u001b[0m\n",
            "Collecting chart_studio\n",
            "\u001b[?25l  Downloading https://files.pythonhosted.org/packages/ca/ce/330794a6b6ca4b9182c38fc69dd2a9cbff60fd49421cb8648ee5fee352dc/chart_studio-1.1.0-py3-none-any.whl (64kB)\n",
            "\u001b[K     |████████████████████████████████| 71kB 5.2MB/s \n",
            "\u001b[?25hRequirement already satisfied: plotly in /usr/local/lib/python3.7/dist-packages (from chart_studio) (4.4.1)\n",
            "Requirement already satisfied: requests in /usr/local/lib/python3.7/dist-packages (from chart_studio) (2.23.0)\n",
            "Requirement already satisfied: six in /usr/local/lib/python3.7/dist-packages (from chart_studio) (1.15.0)\n",
            "Requirement already satisfied: retrying>=1.3.3 in /usr/local/lib/python3.7/dist-packages (from chart_studio) (1.3.3)\n",
            "Requirement already satisfied: certifi>=2017.4.17 in /usr/local/lib/python3.7/dist-packages (from requests->chart_studio) (2021.5.30)\n",
            "Requirement already satisfied: chardet<4,>=3.0.2 in /usr/local/lib/python3.7/dist-packages (from requests->chart_studio) (3.0.4)\n",
            "Requirement already satisfied: urllib3!=1.25.0,!=1.25.1,<1.26,>=1.21.1 in /usr/local/lib/python3.7/dist-packages (from requests->chart_studio) (1.24.3)\n",
            "Requirement already satisfied: idna<3,>=2.5 in /usr/local/lib/python3.7/dist-packages (from requests->chart_studio) (2.10)\n",
            "Installing collected packages: chart-studio\n",
            "Successfully installed chart-studio-1.1.0\n"
          ],
          "name": "stdout"
        }
      ]
    },
    {
      "cell_type": "code",
      "metadata": {
        "id": "1hO-Q8hB5Vnt",
        "colab": {
          "base_uri": "https://localhost:8080/"
        },
        "outputId": "4233cbbb-dac7-4e21-d42e-21613c6fdf26"
      },
      "source": [
        "#Parameters\n",
        "%%capture\n",
        "chart_studio.tools.set_credentials_file(username='freguti', api_key='4T2iyEX3eZP4aJ8PEJye')\n",
        "HISTOGRAM_COLORS = {\"pulsar\" : \"#388004\",\n",
        "                    \"not_pulsar\" : \"#8B0000\"}\n",
        "drive.mount('/content/drive')\n",
        "BOX_OPACITY = 0.3"
      ],
      "execution_count": 4,
      "outputs": [
        {
          "output_type": "stream",
          "text": [
            "Go to this URL in a browser: https://accounts.google.com/o/oauth2/auth?client_id=947318989803-6bn6qk8qdgf4n4g3pfee6491hc0brc4i.apps.googleusercontent.com&redirect_uri=urn%3aietf%3awg%3aoauth%3a2.0%3aoob&scope=email%20https%3a%2f%2fwww.googleapis.com%2fauth%2fdocs.test%20https%3a%2f%2fwww.googleapis.com%2fauth%2fdrive%20https%3a%2f%2fwww.googleapis.com%2fauth%2fdrive.photos.readonly%20https%3a%2f%2fwww.googleapis.com%2fauth%2fpeopleapi.readonly%20https%3a%2f%2fwww.googleapis.com%2fauth%2fdrive.activity.readonly%20https%3a%2f%2fwww.googleapis.com%2fauth%2fexperimentsandconfigs%20https%3a%2f%2fwww.googleapis.com%2fauth%2fphotos.native&response_type=code\n",
            "\n",
            "Enter your authorization code:\n",
            "4/1AX4XfWgyJzpsz1T0siWbg1Lt3IxyqSolLLIoah-hEKDCeSvEYDlcvsJFdIA\n"
          ],
          "name": "stdout"
        }
      ]
    },
    {
      "cell_type": "code",
      "metadata": {
        "id": "xQSFps_4CVyD"
      },
      "source": [
        "#Graph utility\n",
        "\"\"\"\n",
        "def oneFeatureHistogram(dataset,feature,title) :\n",
        "  x = dataset[feature]\n",
        "  image, plot = plt.subplots(figsize=(16, 10))\n",
        "  plot.hist(x)\n",
        "  for rect in plot.patches:\n",
        "    height = rect.get_height()\n",
        "    if height > 0:\n",
        "      plot.annotate(f'{int(height)}', xy=(rect.get_x()+rect.get_width()/2, height), \n",
        "                xytext=(0, 5), textcoords='offset points', ha='center', va='bottom') \n",
        "  plt.xlabel(feature)\n",
        "  plt.ylabel('value')\n",
        "  plt.title(title)\n",
        "  plt.plot()\n",
        "  #plt.draw()\n",
        "  plt.show()\n",
        "  \"\"\"\n",
        "\n",
        "\n",
        "def histogram_bar(tipo, data, col, visible=True, norm = \"\"):\n",
        "    \n",
        "    color = HISTOGRAM_COLORS[tipo]\n",
        "    \n",
        "    data_16 = data.astype(np.float16 ,copy=True)\n",
        "    \n",
        "    return go.Histogram(\n",
        "        x = data_16[col],\n",
        "        name = tipo,\n",
        "        marker = dict(color = color),\n",
        "        visible = visible,\n",
        "        opacity = 1,\n",
        "        histnorm=norm\n",
        "    )\n",
        "\n",
        "#fare l'istogramma con chart studio https://plotly.com/python/getting-started-with-chart-studio/\n",
        "def feature_histogram(dataset, title = \"\", feature = \"\"):\n",
        "\n",
        "  trace0 = histogram_bar(\"not_pulsar\", dataset[dataset['target_class'] == 0], feature)\n",
        "  trace1 = histogram_bar(\"pulsar\", dataset[dataset['target_class'] == 1], feature)\n",
        "  \n",
        "  data = [trace0, trace1]\n",
        "  \n",
        "  layout = dict(\n",
        "      title=title,\n",
        "      autosize=True,\n",
        "      yaxis=dict(\n",
        "          title='value',\n",
        "          automargin=True,\n",
        "      ),\n",
        "      legend=dict(\n",
        "          x=0,\n",
        "          y=1,\n",
        "      ),\n",
        "      barmode='group',\n",
        "      bargap=0.15,\n",
        "      bargroupgap=0.1\n",
        "  )\n",
        "  fig = dict(data=data, layout=layout)\n",
        "  return py.iplot(fig, filename=title)\n",
        "\n",
        "\n",
        "def on_slider_change(sender,dataset):\n",
        "  if sender['name'] == 'value':\n",
        "    selected_option = sender['owner'].value\n",
        "    print(selected_option)\n",
        "    feature_histogram(dataset = dataset, title = \"Distribuzione features\", feature = selected_option)\n",
        "\n",
        "def create_slider_controlled_histogram(col,pulsar,not_pulsar,first_plot):\n",
        "  pulsar_plot = []\n",
        "  not_pulsar_plot = []\n",
        "  hist_features,pulsar_plot,not_pulsar_plot = prepare_set(dataset.columns,first_plot,pulsar,not_pulsar)\n",
        "  active_index = 0\n",
        "  print(hist_features)\n",
        "  hist_not = [(histogram_bar('not_pulsar', not_pulsar_plot, col, False,'percent') if i != active_index\n",
        "            else histogram_bar('not_pulsar', not_pulsar_plot, col, True,'percent'))\n",
        "              for i, col in enumerate(hist_features)\n",
        "              ]\n",
        "  hist_pulsar = [(histogram_bar('pulsar', pulsar_plot, col, False,'percent') if i != active_index\n",
        "            else histogram_bar('pulsar', pulsar_plot, col, True,'percent'))\n",
        "              for i, col in enumerate(hist_features)\n",
        "              ]\n",
        "\n",
        "  total_data = hist_not + hist_pulsar\n",
        "  number_of_features = len(hist_features)\n",
        "  steps = []\n",
        "\n",
        "  for i in range(number_of_features):\n",
        "      step = dict(\n",
        "          method = 'restyle',\n",
        "          args = ['visible', [False] * number_of_features],\n",
        "          label = hist_features[i],\n",
        "      )\n",
        "      step['args'][1][i] = True\n",
        "      steps.append(step)\n",
        "      \n",
        "  sliders = [dict(\n",
        "      active = active_index,\n",
        "      currentvalue = dict(\n",
        "          prefix = \"Feature: \", \n",
        "          xanchor= 'center',\n",
        "      ),\n",
        "      pad = {\"t\": 50},\n",
        "      steps = steps,\n",
        "      len=1,\n",
        "  )]\n",
        "\n",
        "  layout = dict(\n",
        "      sliders=sliders,\n",
        "      autosize=True,\n",
        "      yaxis=dict(\n",
        "          title='valori',\n",
        "          automargin=True,\n",
        "      ),\n",
        "      legend=dict(\n",
        "          x=0,\n",
        "          y=1,\n",
        "      ),\n",
        "  )\n",
        "\n",
        "  fig = dict(data=total_data, layout=layout)\n",
        "\n",
        "  return py.iplot(fig, filename='bar_slider')  \n",
        "\n",
        "def create_box(type, data, col, visible=False):\n",
        "   \n",
        "    c = HISTOGRAM_COLORS[type]\n",
        "    data_16 = data.astype(np.float16 ,copy=True)\n",
        "    return go.Box(\n",
        "        y = data_16[col],\n",
        "        name = type,\n",
        "        marker = dict(color = c),\n",
        "        visible = visible,\n",
        "        opacity = BOX_OPACITY,\n",
        "    )\n",
        "\n",
        "def create_slider_controlled_Boxplot(col,pulsar,not_pulsar,first_plot):\n",
        "  pulsar_plot = []\n",
        "  not_pulsar_plot = []\n",
        "  box_features,pulsar_plot,not_pulsar_plot = prepare_set(dataset.columns,first_plot,pulsar,not_pulsar)\n",
        "  active_index = 0\n",
        "  print(box_features)\n",
        "\n",
        "  box_not_pulsar = [(create_box('not_pulsar', not_pulsar_plot, col, False) if i != active_index\n",
        "            else create_box('not_pulsar', not_pulsar_plot, col, True))\n",
        "              for i, col in enumerate(box_features)\n",
        "              ]\n",
        "  box_pulsar = [(create_box('pulsar', pulsar_plot, col, False) if i != active_index\n",
        "              else create_box('pulsar', pulsar_plot, col, True))\n",
        "              for i, col in enumerate(box_features)\n",
        "              ]\n",
        "\n",
        "  data = box_not_pulsar + box_pulsar\n",
        "  number_of_features = len(box_features)\n",
        "  steps = []\n",
        "\n",
        "  for i in range(number_of_features):\n",
        "      step = dict(\n",
        "          method = 'restyle',  \n",
        "          args = ['visible', [False] * number_of_features],\n",
        "          label = box_features[i],\n",
        "      )\n",
        "      step['args'][1][i] = True # Toggle i'th trace to \"visible\"\n",
        "      steps.append(step)\n",
        "      \n",
        "  sliders = [dict(\n",
        "      active = active_index,\n",
        "      currentvalue = dict(\n",
        "          prefix = \"Feature: \", \n",
        "          xanchor= 'center',\n",
        "      ),\n",
        "      pad = {\"t\": 50},\n",
        "      steps = steps,\n",
        "      len=1,\n",
        "  )]\n",
        "\n",
        "  layout = dict(\n",
        "      sliders=sliders,\n",
        "      autosize=True,\n",
        "      yaxis=dict(\n",
        "          title='valori',\n",
        "          automargin=True,\n",
        "      ),\n",
        "      legend=dict(\n",
        "          x=0,\n",
        "          y=1,\n",
        "      ),\n",
        "  )\n",
        "\n",
        "  fig = dict(data=data, layout=layout)\n",
        "  return py.iplot(fig, filename='box_slider')\n",
        "\n",
        "def prepare_set(col,first_plot,pulsar,not_pulsar): \n",
        "  pulsar_plot = pulsar\n",
        "  not_pulsar_plot = not_pulsar\n",
        "  box_features = col.values.tolist()\n",
        "  if first_plot == \"mean\":\n",
        "    #to_drop = [box_features[1],box_features[2],box_features[3],box_features[5],box_features[6],box_features[7],box_features[8]]\n",
        "    #pulsar_plot = pulsar.drop(to_drop,axis =1)\n",
        "    #not_pulsar_plot = not_pulsar.drop(to_drop,axis =1)\n",
        "    hist_features = [box_features[0],box_features[4]]\n",
        "  if first_plot == \"deviation\":\n",
        "    #to_drop = [box_features[0],box_features[2],box_features[3],box_features[4],box_features[6],box_features[7],box_features[8]]\n",
        "    #pulsar_plot = pulsar.drop(to_drop,axis =1)\n",
        "    #not_pulsar_plot = not_pulsar.drop(to_drop,axis =1)\n",
        "    hist_features = [box_features[1],box_features[5]]\n",
        "  if first_plot == \"kurtosis\":\n",
        "    #to_drop = [box_features[0],box_features[1],box_features[3],box_features[4],box_features[5],box_features[7],box_features[8]]\n",
        "    #pulsar_plot = pulsar.drop(to_drop,axis =1)\n",
        "    #not_pulsar_plot = not_pulsar.drop(to_drop,axis =1)\n",
        "    hist_features = [box_features[2],box_features[6]]\n",
        "  if first_plot == \"skewness\":\n",
        "    #to_drop = [box_features[0],box_features[1],box_features[2],box_features[4],box_features[5],box_features[6],box_features[8]]\n",
        "    #pulsar_plot = pulsar.drop(to_drop,axis =1)\n",
        "    #not_pulsar_plot = not_pulsar.drop(to_drop,axis =1)\n",
        "    hist_features = [box_features[3],box_features[7]]\n",
        "  return hist_features,pulsar_plot,not_pulsar_plot"
      ],
      "execution_count": 84,
      "outputs": []
    },
    {
      "cell_type": "code",
      "metadata": {
        "id": "TX10bsm89_rz"
      },
      "source": [
        ""
      ],
      "execution_count": null,
      "outputs": []
    },
    {
      "cell_type": "markdown",
      "metadata": {
        "id": "jONDdFWm3tZZ"
      },
      "source": [
        "##**Analisi Dataset**"
      ]
    },
    {
      "cell_type": "markdown",
      "metadata": {
        "id": "nfng4uxpmYN3"
      },
      "source": [
        "Come prima cosa è necessario eseguire un'analisi del dataset, eseguendo eventualmente delle operazioni per migliorarlo e renderlo più adatto al nostro tipo di analisi.\n",
        "\n",
        "La fase di analisi è la più importante, perchè permette di pulire il dataset migliorando l'analisi effettuata e ridurre la potenza di calcolo necessaria per eseguirla.\n",
        "\n"
      ]
    },
    {
      "cell_type": "code",
      "metadata": {
        "id": "Q1leO2hjh7Ge",
        "colab": {
          "base_uri": "https://localhost:8080/"
        },
        "outputId": "d3d12977-b970-4e92-ea7d-49a9c5a85850"
      },
      "source": [
        "\n",
        "dataset = pd.read_csv('/content/drive/My Drive/DataSpaces/pulsar_stars.csv')\n",
        "#print(dataset.info(memory_usage = \"deep\"))\n",
        "for column in dataset:\n",
        " if dataset[column].dtype == 'float64':\n",
        "  dataset[column]=pd.to_numeric(dataset[column], downcast='float')\n",
        "  if dataset[column].min() <= np.finfo(np.float16).min or dataset[column].max() >= np.finfo(np.float16).max:\n",
        "    raise CustomError(\"Range Exception\")\n",
        " if dataset[column].dtype == 'int64':\n",
        "  dataset[column]=pd.to_numeric(dataset[column], downcast='integer')\n",
        "#print(dataset.info(memory_usage = \"deep\"))\n",
        "print(\"il dataset ha %d record e %d features\\n\\nNumero di valori null per ogni feature:\" % dataset.shape)\n",
        "print(dataset.isnull().sum())\n",
        "\n",
        "print(\"\\nDa quel che si può vedere, non ci sono valori nulli all'interno del nostro dataset. Nel caso in cui ne avessimo trovato uno avremo avuto due possibilità:\\n\")\n",
        "print(\"- Se i valori nulli non sono molti possiamo procedere eliminando i record che riportano il valore nullo;\\n- Se il numero di questi valori nulli è elevato si può procedere alla sostituzione con dei valori di default\\n\")\n",
        "\n",
        "print(\"ci sono 2 classi differenti.\\n0 -> non è una pulsar\\n1 -> è una pulsar\")\n",
        "X, y = make_classification(n_classes = 2, )\n",
        "target_class = dataset['target_class'].value_counts()\n",
        "print(\"numero di record per ogni classe:\\n\" + target_class.to_string() + \"\\n\")"
      ],
      "execution_count": 58,
      "outputs": [
        {
          "output_type": "stream",
          "text": [
            "il dataset ha 17592 record e 9 features\n",
            "\n",
            "Numero di valori null per ogni feature:\n",
            " Mean of the integrated profile                  0\n",
            " Standard deviation of the integrated profile    0\n",
            " Excess kurtosis of the integrated profile       0\n",
            " Skewness of the integrated profile              0\n",
            " Mean of the DM-SNR curve                        0\n",
            " Standard deviation of the DM-SNR curve          0\n",
            " Excess kurtosis of the DM-SNR curve             0\n",
            " Skewness of the DM-SNR curve                    0\n",
            "target_class                                     0\n",
            "dtype: int64\n",
            "\n",
            "Da quel che si può vedere, non ci sono valori nulli all'interno del nostro dataset. Nel caso in cui ne avessimo trovato uno avremo avuto due possibilità:\n",
            "\n",
            "- Se i valori nulli non sono molti possiamo procedere eliminando i record che riportano il valore nullo;\n",
            "- Se il numero di questi valori nulli è elevato si può procedere alla sostituzione con dei valori di default\n",
            "\n",
            "ci sono 2 classi differenti.\n",
            "0 -> non è una pulsar\n",
            "1 -> è una pulsar\n",
            "numero di record per ogni classe:\n",
            "0    15953\n",
            "1     1639\n",
            "\n"
          ],
          "name": "stdout"
        }
      ]
    },
    {
      "cell_type": "markdown",
      "metadata": {
        "id": "6ah__nVazvgK"
      },
      "source": [
        "La prima analisi che si dovrà effettuare è quella che permette di verificare i tipi di dati del dataset"
      ]
    },
    {
      "cell_type": "code",
      "metadata": {
        "colab": {
          "base_uri": "https://localhost:8080/",
          "height": 221
        },
        "id": "YmLz7Zwqt6X-",
        "outputId": "03206c7f-74a7-4e89-f52c-6ff93fff7c51"
      },
      "source": [
        "dataset.head()"
      ],
      "execution_count": null,
      "outputs": [
        {
          "output_type": "execute_result",
          "data": {
            "text/html": [
              "<div>\n",
              "<style scoped>\n",
              "    .dataframe tbody tr th:only-of-type {\n",
              "        vertical-align: middle;\n",
              "    }\n",
              "\n",
              "    .dataframe tbody tr th {\n",
              "        vertical-align: top;\n",
              "    }\n",
              "\n",
              "    .dataframe thead th {\n",
              "        text-align: right;\n",
              "    }\n",
              "</style>\n",
              "<table border=\"1\" class=\"dataframe\">\n",
              "  <thead>\n",
              "    <tr style=\"text-align: right;\">\n",
              "      <th></th>\n",
              "      <th>Mean of the integrated profile</th>\n",
              "      <th>Standard deviation of the integrated profile</th>\n",
              "      <th>Excess kurtosis of the integrated profile</th>\n",
              "      <th>Skewness of the integrated profile</th>\n",
              "      <th>Mean of the DM-SNR curve</th>\n",
              "      <th>Standard deviation of the DM-SNR curve</th>\n",
              "      <th>Excess kurtosis of the DM-SNR curve</th>\n",
              "      <th>Skewness of the DM-SNR curve</th>\n",
              "      <th>target_class</th>\n",
              "    </tr>\n",
              "  </thead>\n",
              "  <tbody>\n",
              "    <tr>\n",
              "      <th>0</th>\n",
              "      <td>140.562500</td>\n",
              "      <td>55.683781</td>\n",
              "      <td>-0.234571</td>\n",
              "      <td>-0.699648</td>\n",
              "      <td>3.199833</td>\n",
              "      <td>19.110426</td>\n",
              "      <td>7.975532</td>\n",
              "      <td>74.242226</td>\n",
              "      <td>0</td>\n",
              "    </tr>\n",
              "    <tr>\n",
              "      <th>1</th>\n",
              "      <td>102.507812</td>\n",
              "      <td>58.882431</td>\n",
              "      <td>0.465318</td>\n",
              "      <td>-0.515088</td>\n",
              "      <td>1.677258</td>\n",
              "      <td>14.860146</td>\n",
              "      <td>10.576487</td>\n",
              "      <td>127.393578</td>\n",
              "      <td>0</td>\n",
              "    </tr>\n",
              "    <tr>\n",
              "      <th>2</th>\n",
              "      <td>103.015625</td>\n",
              "      <td>39.341648</td>\n",
              "      <td>0.323328</td>\n",
              "      <td>1.051164</td>\n",
              "      <td>3.121238</td>\n",
              "      <td>21.744669</td>\n",
              "      <td>7.735822</td>\n",
              "      <td>63.171909</td>\n",
              "      <td>0</td>\n",
              "    </tr>\n",
              "    <tr>\n",
              "      <th>3</th>\n",
              "      <td>136.750000</td>\n",
              "      <td>57.178448</td>\n",
              "      <td>-0.068415</td>\n",
              "      <td>-0.636238</td>\n",
              "      <td>3.642977</td>\n",
              "      <td>20.959280</td>\n",
              "      <td>6.896499</td>\n",
              "      <td>53.593662</td>\n",
              "      <td>0</td>\n",
              "    </tr>\n",
              "    <tr>\n",
              "      <th>4</th>\n",
              "      <td>88.726562</td>\n",
              "      <td>40.672226</td>\n",
              "      <td>0.600866</td>\n",
              "      <td>1.123492</td>\n",
              "      <td>1.178930</td>\n",
              "      <td>11.468719</td>\n",
              "      <td>14.269573</td>\n",
              "      <td>252.567307</td>\n",
              "      <td>0</td>\n",
              "    </tr>\n",
              "  </tbody>\n",
              "</table>\n",
              "</div>"
            ],
            "text/plain": [
              "    Mean of the integrated profile  ...  target_class\n",
              "0                       140.562500  ...             0\n",
              "1                       102.507812  ...             0\n",
              "2                       103.015625  ...             0\n",
              "3                       136.750000  ...             0\n",
              "4                        88.726562  ...             0\n",
              "\n",
              "[5 rows x 9 columns]"
            ]
          },
          "metadata": {
            "tags": []
          },
          "execution_count": 6
        }
      ]
    },
    {
      "cell_type": "markdown",
      "metadata": {
        "id": "ttDLgb2U0vmh"
      },
      "source": [
        "Possiamo notare che tutte le features tranne la classe sono reali, perchè sono il prodotto di calcoli statistici su dei fenomeni fisici e quindi intrinsecamente continui.\n",
        "La classe di appartenenza invece è discreta, e visto che può assumere due valori possiamo dichiarare che il nostro problema consiste in una classificazione di tipo binario.\n",
        "\n",
        "Un'altra analisi preliminare che possiamo eseguire consiste nell'analizzare dei dati statistici relativi ai nostri campi del dataset. Questa analisi estrapolerà questi valori:\n",
        "\n",
        "- **count:** specifica il numero dei record presenti nel dataset\n",
        "- **mean:** specifica la media dell'attributo calcolata per tutti i record\n",
        "- **std:** specifica la deviazione standard dell'attributo\n",
        "- **min:** specifica il valore minimo dell'attributo\n",
        "- **25%:** il 25% dei record ha un valore minore di quello visualizzato (lower percentile)\n",
        "- **50%:** il 50% dei record ha un valore minore di quello visualizzato (median percentile)\n",
        "- **75%:** il 75% dei record ha un valore minore di quello visualizzato (upper percentile)\n",
        "- **max:** specifica il valore massimo dell'attributo"
      ]
    },
    {
      "cell_type": "code",
      "metadata": {
        "colab": {
          "base_uri": "https://localhost:8080/",
          "height": 314
        },
        "id": "zbrmcfcR2oSQ",
        "outputId": "6ba4f451-ac82-4071-d6de-cb2173d3c5b8"
      },
      "source": [
        "dataset.describe()"
      ],
      "execution_count": null,
      "outputs": [
        {
          "output_type": "execute_result",
          "data": {
            "text/html": [
              "<div>\n",
              "<style scoped>\n",
              "    .dataframe tbody tr th:only-of-type {\n",
              "        vertical-align: middle;\n",
              "    }\n",
              "\n",
              "    .dataframe tbody tr th {\n",
              "        vertical-align: top;\n",
              "    }\n",
              "\n",
              "    .dataframe thead th {\n",
              "        text-align: right;\n",
              "    }\n",
              "</style>\n",
              "<table border=\"1\" class=\"dataframe\">\n",
              "  <thead>\n",
              "    <tr style=\"text-align: right;\">\n",
              "      <th></th>\n",
              "      <th>Mean of the integrated profile</th>\n",
              "      <th>Standard deviation of the integrated profile</th>\n",
              "      <th>Excess kurtosis of the integrated profile</th>\n",
              "      <th>Skewness of the integrated profile</th>\n",
              "      <th>Mean of the DM-SNR curve</th>\n",
              "      <th>Standard deviation of the DM-SNR curve</th>\n",
              "      <th>Excess kurtosis of the DM-SNR curve</th>\n",
              "      <th>Skewness of the DM-SNR curve</th>\n",
              "      <th>target_class</th>\n",
              "    </tr>\n",
              "  </thead>\n",
              "  <tbody>\n",
              "    <tr>\n",
              "      <th>count</th>\n",
              "      <td>17592.000000</td>\n",
              "      <td>17592.000000</td>\n",
              "      <td>17592.000000</td>\n",
              "      <td>17592.000000</td>\n",
              "      <td>17592.000000</td>\n",
              "      <td>17592.000000</td>\n",
              "      <td>17592.000000</td>\n",
              "      <td>17592.000000</td>\n",
              "      <td>17592.000000</td>\n",
              "    </tr>\n",
              "    <tr>\n",
              "      <th>mean</th>\n",
              "      <td>110.997955</td>\n",
              "      <td>46.545223</td>\n",
              "      <td>0.481985</td>\n",
              "      <td>1.793053</td>\n",
              "      <td>12.727508</td>\n",
              "      <td>26.407417</td>\n",
              "      <td>8.288137</td>\n",
              "      <td>104.641624</td>\n",
              "      <td>0.093167</td>\n",
              "    </tr>\n",
              "    <tr>\n",
              "      <th>std</th>\n",
              "      <td>25.751160</td>\n",
              "      <td>6.860444</td>\n",
              "      <td>1.071820</td>\n",
              "      <td>6.217242</td>\n",
              "      <td>29.629618</td>\n",
              "      <td>19.548374</td>\n",
              "      <td>4.513248</td>\n",
              "      <td>106.549126</td>\n",
              "      <td>0.290675</td>\n",
              "    </tr>\n",
              "    <tr>\n",
              "      <th>min</th>\n",
              "      <td>5.812500</td>\n",
              "      <td>24.772041</td>\n",
              "      <td>-1.876011</td>\n",
              "      <td>-1.791886</td>\n",
              "      <td>0.213211</td>\n",
              "      <td>7.370432</td>\n",
              "      <td>-3.139270</td>\n",
              "      <td>-1.976976</td>\n",
              "      <td>0.000000</td>\n",
              "    </tr>\n",
              "    <tr>\n",
              "      <th>25%</th>\n",
              "      <td>100.888672</td>\n",
              "      <td>42.377201</td>\n",
              "      <td>0.027163</td>\n",
              "      <td>-0.188526</td>\n",
              "      <td>1.927258</td>\n",
              "      <td>14.439169</td>\n",
              "      <td>5.745987</td>\n",
              "      <td>34.513126</td>\n",
              "      <td>0.000000</td>\n",
              "    </tr>\n",
              "    <tr>\n",
              "      <th>50%</th>\n",
              "      <td>115.050781</td>\n",
              "      <td>46.952198</td>\n",
              "      <td>0.223479</td>\n",
              "      <td>0.198906</td>\n",
              "      <td>2.810619</td>\n",
              "      <td>18.488600</td>\n",
              "      <td>8.421281</td>\n",
              "      <td>82.797821</td>\n",
              "      <td>0.000000</td>\n",
              "    </tr>\n",
              "    <tr>\n",
              "      <th>75%</th>\n",
              "      <td>127.023438</td>\n",
              "      <td>51.028583</td>\n",
              "      <td>0.474458</td>\n",
              "      <td>0.934944</td>\n",
              "      <td>5.501881</td>\n",
              "      <td>28.552639</td>\n",
              "      <td>10.694819</td>\n",
              "      <td>139.202213</td>\n",
              "      <td>0.000000</td>\n",
              "    </tr>\n",
              "    <tr>\n",
              "      <th>max</th>\n",
              "      <td>192.617188</td>\n",
              "      <td>98.778908</td>\n",
              "      <td>8.069522</td>\n",
              "      <td>68.101624</td>\n",
              "      <td>223.392136</td>\n",
              "      <td>110.642212</td>\n",
              "      <td>34.539845</td>\n",
              "      <td>1191.000854</td>\n",
              "      <td>1.000000</td>\n",
              "    </tr>\n",
              "  </tbody>\n",
              "</table>\n",
              "</div>"
            ],
            "text/plain": [
              "        Mean of the integrated profile  ...  target_class\n",
              "count                     17592.000000  ...  17592.000000\n",
              "mean                        110.997955  ...      0.093167\n",
              "std                          25.751160  ...      0.290675\n",
              "min                           5.812500  ...      0.000000\n",
              "25%                         100.888672  ...      0.000000\n",
              "50%                         115.050781  ...      0.000000\n",
              "75%                         127.023438  ...      0.000000\n",
              "max                         192.617188  ...      1.000000\n",
              "\n",
              "[8 rows x 9 columns]"
            ]
          },
          "metadata": {
            "tags": []
          },
          "execution_count": 7
        }
      ]
    },
    {
      "cell_type": "markdown",
      "metadata": {
        "id": "RX0SCNL86PXg"
      },
      "source": [
        "###Grafici\n",
        "//TODO: Rivedere la lettura dei grafici!!"
      ]
    },
    {
      "cell_type": "markdown",
      "metadata": {
        "id": "v5fam4xx-XnL"
      },
      "source": [
        "####Istogramma"
      ]
    },
    {
      "cell_type": "code",
      "metadata": {
        "colab": {
          "base_uri": "https://localhost:8080/",
          "height": 546
        },
        "id": "89BQ9U4VtsmL",
        "outputId": "7cbf35ad-7cbf-48e6-cdd9-d8b0801ad1dd"
      },
      "source": [
        "feature_histogram(dataset = dataset, title = \"Distribuzione delle classi\", feature = \"target_class\")"
      ],
      "execution_count": null,
      "outputs": [
        {
          "output_type": "execute_result",
          "data": {
            "text/html": [
              "\n",
              "        <iframe\n",
              "            width=\"100%\"\n",
              "            height=\"525px\"\n",
              "            src=\"https://plotly.com/~freguti/15.embed\"\n",
              "            frameborder=\"0\"\n",
              "            allowfullscreen\n",
              "        ></iframe>\n",
              "        "
            ],
            "text/plain": [
              "<IPython.lib.display.IFrame at 0x7f9a19aa4a50>"
            ]
          },
          "metadata": {
            "tags": []
          },
          "execution_count": 8
        }
      ]
    },
    {
      "cell_type": "markdown",
      "metadata": {
        "id": "cEwUWW8m3FS-"
      },
      "source": [
        "Da quel che possiamo vedere il dataset che abbiamo è molto sbilanciato. Per ogni record di classe \"1\" esistono 10 record di classe \"0\".\n",
        "\n",
        "Questo sbilanciamento potrebbe portare il modello predittivo ad avere dei bias, portandolo a predirre più frequentemente la classe con più campioni solamente perchè è stata più presente in fase di train.\n",
        "\n",
        "Gli Istogrammi sono molto utili per vedere la distribuzione delle classi per ogni feature in relazione al suo valore.\n",
        "Tramite uno slider è possibile visualizzare delle features diverse."
      ]
    },
    {
      "cell_type": "code",
      "metadata": {
        "colab": {
          "base_uri": "https://localhost:8080/",
          "height": 563
        },
        "id": "jJhTutRh0s4L",
        "outputId": "41bec7e8-85f8-4468-b825-214220f082c2"
      },
      "source": [
        "import functools\n",
        "import ipywidgets as widgets\n",
        "pulsar = dataset[dataset['target_class'] == 1]\n",
        "not_pulsar = dataset[dataset['target_class'] == 0]\n",
        "\n",
        "#slider = widgets.SelectionSlider(\n",
        "#    options=[col for col in dataset.columns if (col != 'target')],\n",
        "#    value=dataset.columns[0],\n",
        "#    disabled=False,\n",
        "#    continuous_update=False,\n",
        "#    orientation='horizontal',\n",
        "#    readout=True\n",
        "#)\n",
        "#slider.observe(functools.partial(on_slider_change,dataset = dataset))\n",
        "#display(slider)\n",
        "import sys\n",
        "\n",
        "create_slider_controlled_histogram(dataset.columns,pulsar,not_pulsar, \"mean\")"
      ],
      "execution_count": 82,
      "outputs": [
        {
          "output_type": "stream",
          "text": [
            "[' Mean of the integrated profile', ' Mean of the DM-SNR curve']\n"
          ],
          "name": "stdout"
        },
        {
          "output_type": "execute_result",
          "data": {
            "text/html": [
              "\n",
              "        <iframe\n",
              "            width=\"100%\"\n",
              "            height=\"525px\"\n",
              "            src=\"https://plotly.com/~freguti/26.embed\"\n",
              "            frameborder=\"0\"\n",
              "            allowfullscreen\n",
              "        ></iframe>\n",
              "        "
            ],
            "text/plain": [
              "<IPython.lib.display.IFrame at 0x7f253ae17690>"
            ]
          },
          "metadata": {
            "tags": []
          },
          "execution_count": 82
        }
      ]
    },
    {
      "cell_type": "code",
      "metadata": {
        "id": "5eqc_yIJGdxD",
        "colab": {
          "base_uri": "https://localhost:8080/",
          "height": 580
        },
        "outputId": "c9466619-dfbe-440b-ee04-9153bcf32173"
      },
      "source": [
        "create_slider_controlled_histogram(dataset.columns,pulsar,not_pulsar,\"deviation\")"
      ],
      "execution_count": 61,
      "outputs": [
        {
          "output_type": "stream",
          "text": [
            "[' Standard deviation of the integrated profile', ' Standard deviation of the DM-SNR curve']\n",
            "<class 'numpy.ndarray'>\n"
          ],
          "name": "stdout"
        },
        {
          "output_type": "execute_result",
          "data": {
            "text/html": [
              "\n",
              "        <iframe\n",
              "            width=\"100%\"\n",
              "            height=\"525px\"\n",
              "            src=\"https://plotly.com/~freguti/26.embed\"\n",
              "            frameborder=\"0\"\n",
              "            allowfullscreen\n",
              "        ></iframe>\n",
              "        "
            ],
            "text/plain": [
              "<IPython.lib.display.IFrame at 0x7f2540854f90>"
            ]
          },
          "metadata": {
            "tags": []
          },
          "execution_count": 61
        }
      ]
    },
    {
      "cell_type": "code",
      "metadata": {
        "colab": {
          "base_uri": "https://localhost:8080/",
          "height": 580
        },
        "id": "jJ3qWR0nGVRX",
        "outputId": "d4642d1b-b4f9-45c9-ae33-7f0e47fe068b"
      },
      "source": [
        "create_slider_controlled_histogram(dataset.columns,pulsar,not_pulsar,\"kurtosis\")"
      ],
      "execution_count": 72,
      "outputs": [
        {
          "output_type": "stream",
          "text": [
            "[' Excess kurtosis of the integrated profile', ' Excess kurtosis of the DM-SNR curve']\n",
            "<class 'numpy.ndarray'>\n"
          ],
          "name": "stdout"
        },
        {
          "output_type": "execute_result",
          "data": {
            "text/html": [
              "\n",
              "        <iframe\n",
              "            width=\"100%\"\n",
              "            height=\"525px\"\n",
              "            src=\"https://plotly.com/~freguti/26.embed\"\n",
              "            frameborder=\"0\"\n",
              "            allowfullscreen\n",
              "        ></iframe>\n",
              "        "
            ],
            "text/plain": [
              "<IPython.lib.display.IFrame at 0x7f253a4a2150>"
            ]
          },
          "metadata": {
            "tags": []
          },
          "execution_count": 72
        }
      ]
    },
    {
      "cell_type": "code",
      "metadata": {
        "colab": {
          "base_uri": "https://localhost:8080/",
          "height": 580
        },
        "id": "2EJ7rATXcW5T",
        "outputId": "0fe9f102-2ee8-4ab0-eee8-06d0f994c959"
      },
      "source": [
        "create_slider_controlled_histogram(dataset.columns,pulsar,not_pulsar,\"skewness\")"
      ],
      "execution_count": 73,
      "outputs": [
        {
          "output_type": "stream",
          "text": [
            "[' Skewness of the integrated profile', ' Skewness of the DM-SNR curve']\n",
            "<class 'numpy.ndarray'>\n"
          ],
          "name": "stdout"
        },
        {
          "output_type": "execute_result",
          "data": {
            "text/html": [
              "\n",
              "        <iframe\n",
              "            width=\"100%\"\n",
              "            height=\"525px\"\n",
              "            src=\"https://plotly.com/~freguti/26.embed\"\n",
              "            frameborder=\"0\"\n",
              "            allowfullscreen\n",
              "        ></iframe>\n",
              "        "
            ],
            "text/plain": [
              "<IPython.lib.display.IFrame at 0x7f2540a9c250>"
            ]
          },
          "metadata": {
            "tags": []
          },
          "execution_count": 73
        }
      ]
    },
    {
      "cell_type": "markdown",
      "metadata": {
        "id": "56fdYyeMy1Hy"
      },
      "source": [
        "A causa di un limite dello strumento, che consente un upload limitato di dati, ho dovuto dividere il grafico in 4. Ho optato per separare i grafici per metodo statistico applicato alle due misurazioni.\n",
        "\n",
        "ho usato una normalizzazione percentuale che mi mostra, per ogni classe, la distribuzione percentuale dei valori. L'ho fatto a causa dell'elevata differenza numerica tra le due classi, che non mi permetteva di mostrare correttamente i valori assoluti.\n",
        "\n",
        "Si può notare che la distribuzione dei valori \"non pulsar\" tende ad essere la maggior parte delle volte una distribuzione Gaussiana, e ogni tanto una distribuzione di Poisson.\n",
        "\n",
        "La distribuzione dei valori \"pulsar\" tende ad essere più costante e disordinata, evitando una concentrazione di valori. Questo deriva dalle nostre supposizioni iniziali, che indicavano come univoci i pattern di ogni pulsar.\n",
        "\n",
        "Questa differenza può essere significativa in fase di classificazione, perchè le varie features tendono a sovrapporsi poche volte, ciò implica che potenzialmente tutte le classi possono essere utili per determinare la classe."
      ]
    },
    {
      "cell_type": "markdown",
      "metadata": {
        "id": "L8Pl9OFp9-K5"
      },
      "source": [
        "####Boxplot"
      ]
    },
    {
      "cell_type": "code",
      "metadata": {
        "colab": {
          "base_uri": "https://localhost:8080/",
          "height": 563
        },
        "id": "XcTcYxCTNAMR",
        "outputId": "5001f5f7-0bdb-4491-f856-fce5d2a42fdc"
      },
      "source": [
        "create_slider_controlled_Boxplot(dataset.columns,pulsar,not_pulsar, \"mean\")"
      ],
      "execution_count": 85,
      "outputs": [
        {
          "output_type": "stream",
          "text": [
            "[' Mean of the integrated profile', ' Mean of the DM-SNR curve']\n"
          ],
          "name": "stdout"
        },
        {
          "output_type": "execute_result",
          "data": {
            "text/html": [
              "\n",
              "        <iframe\n",
              "            width=\"100%\"\n",
              "            height=\"525px\"\n",
              "            src=\"https://plotly.com/~freguti/65.embed\"\n",
              "            frameborder=\"0\"\n",
              "            allowfullscreen\n",
              "        ></iframe>\n",
              "        "
            ],
            "text/plain": [
              "<IPython.lib.display.IFrame at 0x7f253b930910>"
            ]
          },
          "metadata": {
            "tags": []
          },
          "execution_count": 85
        }
      ]
    },
    {
      "cell_type": "code",
      "metadata": {
        "colab": {
          "base_uri": "https://localhost:8080/",
          "height": 563
        },
        "id": "gGo-h1rfQx2Q",
        "outputId": "6ffcc355-5cff-4ead-d7a5-1df1d1534898"
      },
      "source": [
        "create_slider_controlled_Boxplot(dataset.columns,pulsar,not_pulsar, \"deviation\")"
      ],
      "execution_count": 86,
      "outputs": [
        {
          "output_type": "stream",
          "text": [
            "[' Standard deviation of the integrated profile', ' Standard deviation of the DM-SNR curve']\n"
          ],
          "name": "stdout"
        },
        {
          "output_type": "execute_result",
          "data": {
            "text/html": [
              "\n",
              "        <iframe\n",
              "            width=\"100%\"\n",
              "            height=\"525px\"\n",
              "            src=\"https://plotly.com/~freguti/65.embed\"\n",
              "            frameborder=\"0\"\n",
              "            allowfullscreen\n",
              "        ></iframe>\n",
              "        "
            ],
            "text/plain": [
              "<IPython.lib.display.IFrame at 0x7f253a0d20d0>"
            ]
          },
          "metadata": {
            "tags": []
          },
          "execution_count": 86
        }
      ]
    },
    {
      "cell_type": "code",
      "metadata": {
        "colab": {
          "base_uri": "https://localhost:8080/",
          "height": 563
        },
        "id": "kMmOM1dIQyOM",
        "outputId": "715c29e6-caa5-46f8-dc6d-dcbdff0fd3ad"
      },
      "source": [
        "create_slider_controlled_Boxplot(dataset.columns,pulsar,not_pulsar, \"kurtosis\")"
      ],
      "execution_count": 87,
      "outputs": [
        {
          "output_type": "stream",
          "text": [
            "[' Excess kurtosis of the integrated profile', ' Excess kurtosis of the DM-SNR curve']\n"
          ],
          "name": "stdout"
        },
        {
          "output_type": "execute_result",
          "data": {
            "text/html": [
              "\n",
              "        <iframe\n",
              "            width=\"100%\"\n",
              "            height=\"525px\"\n",
              "            src=\"https://plotly.com/~freguti/65.embed\"\n",
              "            frameborder=\"0\"\n",
              "            allowfullscreen\n",
              "        ></iframe>\n",
              "        "
            ],
            "text/plain": [
              "<IPython.lib.display.IFrame at 0x7f253b6f0590>"
            ]
          },
          "metadata": {
            "tags": []
          },
          "execution_count": 87
        }
      ]
    },
    {
      "cell_type": "code",
      "metadata": {
        "colab": {
          "base_uri": "https://localhost:8080/",
          "height": 563
        },
        "id": "sMQTI5QonXW0",
        "outputId": "d90018c0-1901-41d6-83ba-698047dbd102"
      },
      "source": [
        "create_slider_controlled_Boxplot(dataset.columns,pulsar,not_pulsar, \"skewness\")"
      ],
      "execution_count": 88,
      "outputs": [
        {
          "output_type": "stream",
          "text": [
            "[' Skewness of the integrated profile', ' Skewness of the DM-SNR curve']\n"
          ],
          "name": "stdout"
        },
        {
          "output_type": "execute_result",
          "data": {
            "text/html": [
              "\n",
              "        <iframe\n",
              "            width=\"100%\"\n",
              "            height=\"525px\"\n",
              "            src=\"https://plotly.com/~freguti/65.embed\"\n",
              "            frameborder=\"0\"\n",
              "            allowfullscreen\n",
              "        ></iframe>\n",
              "        "
            ],
            "text/plain": [
              "<IPython.lib.display.IFrame at 0x7f253b689410>"
            ]
          },
          "metadata": {
            "tags": []
          },
          "execution_count": 88
        }
      ]
    },
    {
      "cell_type": "markdown",
      "metadata": {
        "id": "N8wxYPlhRJxI"
      },
      "source": [
        "Possiamo notare come tutti i parametri siano rilevanti nella classificazione. Nessuno di loro ha una distribuzione media troppo simile alla controparte della classe opposta. "
      ]
    },
    {
      "cell_type": "markdown",
      "metadata": {
        "id": "wKkE3YA--UeL"
      },
      "source": [
        "####Matrice di correlazione"
      ]
    },
    {
      "cell_type": "markdown",
      "metadata": {
        "id": "kXUhKSZWsJ2v"
      },
      "source": [
        "Una matrice di correlazione è una tabella che mostra i coefficienti di correlazione tra insiemi di variabili. Ogni variabile casuale ( $X_i$ ) nella tabella è correlata con ciascuno degli altri valori nella tabella ( $X_j$ ); questo permette di vedere quali coppie hanno la più alta correlazione. La correlazione si riferisce a qualsiasi associazione statistica, ma nell'uso comune del termine si indica quanto due variabili siano vicine ad avere una relazione lineare l'una con l'altra.\n",
        "\n",
        "Nel grafico sottostante abbiamo utilizzato la correlazione di Pearson, che misura la correlazione lineare tra due variabili statistiche X e Y, ritornando un valore compreso tra -1 e 1.\n",
        "- Se il valore è vicino a -1 vuol dire che le due variabili hanno una forte correlazione negativa, cioè al crescere della prima decresce la seconda;\n",
        "- Se il valore è vicino a 1 vuol dire che le due variabili hanno una forte correlazione, cioè al crescere della prima crescerà anche la seconda;\n",
        "- Se il valore è vicino allo 0 le due variabili sono scorrelate\n",
        "\n",
        "Questo valore viene calcolato così: $Corr_{i,j} = \\frac{cov(X,Y)}{\\sigma_x\\sigma_y}$\n",
        "\n",
        "dove cov è la covarianza tra i due valori e $\\sigma$ è lo scarto quadratico medio."
      ]
    },
    {
      "cell_type": "code",
      "metadata": {
        "colab": {
          "base_uri": "https://localhost:8080/",
          "height": 348
        },
        "id": "t0gFY-ChbLHf",
        "outputId": "c060c19e-7f94-438a-bd49-f695e1f964a9"
      },
      "source": [
        "import pandas as pd\n",
        "\n",
        "corr = dataset.corr(method='pearson')\n",
        "corr.style.background_gradient(cmap='coolwarm').set_precision(2)"
      ],
      "execution_count": 90,
      "outputs": [
        {
          "output_type": "execute_result",
          "data": {
            "text/html": [
              "<style  type=\"text/css\" >\n",
              "#T_d8b4f4ca_e4bd_11eb_90bc_0242ac1c0002row0_col0,#T_d8b4f4ca_e4bd_11eb_90bc_0242ac1c0002row1_col1,#T_d8b4f4ca_e4bd_11eb_90bc_0242ac1c0002row2_col2,#T_d8b4f4ca_e4bd_11eb_90bc_0242ac1c0002row3_col3,#T_d8b4f4ca_e4bd_11eb_90bc_0242ac1c0002row4_col4,#T_d8b4f4ca_e4bd_11eb_90bc_0242ac1c0002row5_col5,#T_d8b4f4ca_e4bd_11eb_90bc_0242ac1c0002row6_col6,#T_d8b4f4ca_e4bd_11eb_90bc_0242ac1c0002row7_col7,#T_d8b4f4ca_e4bd_11eb_90bc_0242ac1c0002row8_col8{\n",
              "            background-color:  #b40426;\n",
              "            color:  #f1f1f1;\n",
              "        }#T_d8b4f4ca_e4bd_11eb_90bc_0242ac1c0002row0_col1{\n",
              "            background-color:  #f7a98b;\n",
              "            color:  #000000;\n",
              "        }#T_d8b4f4ca_e4bd_11eb_90bc_0242ac1c0002row0_col2,#T_d8b4f4ca_e4bd_11eb_90bc_0242ac1c0002row0_col3,#T_d8b4f4ca_e4bd_11eb_90bc_0242ac1c0002row0_col8,#T_d8b4f4ca_e4bd_11eb_90bc_0242ac1c0002row2_col0,#T_d8b4f4ca_e4bd_11eb_90bc_0242ac1c0002row3_col1,#T_d8b4f4ca_e4bd_11eb_90bc_0242ac1c0002row5_col6,#T_d8b4f4ca_e4bd_11eb_90bc_0242ac1c0002row5_col7,#T_d8b4f4ca_e4bd_11eb_90bc_0242ac1c0002row6_col4,#T_d8b4f4ca_e4bd_11eb_90bc_0242ac1c0002row6_col5{\n",
              "            background-color:  #3b4cc0;\n",
              "            color:  #f1f1f1;\n",
              "        }#T_d8b4f4ca_e4bd_11eb_90bc_0242ac1c0002row0_col4{\n",
              "            background-color:  #7a9df8;\n",
              "            color:  #000000;\n",
              "        }#T_d8b4f4ca_e4bd_11eb_90bc_0242ac1c0002row0_col5{\n",
              "            background-color:  #96b7ff;\n",
              "            color:  #000000;\n",
              "        }#T_d8b4f4ca_e4bd_11eb_90bc_0242ac1c0002row0_col6{\n",
              "            background-color:  #eed0c0;\n",
              "            color:  #000000;\n",
              "        }#T_d8b4f4ca_e4bd_11eb_90bc_0242ac1c0002row0_col7{\n",
              "            background-color:  #d2dbe8;\n",
              "            color:  #000000;\n",
              "        }#T_d8b4f4ca_e4bd_11eb_90bc_0242ac1c0002row1_col0{\n",
              "            background-color:  #f39577;\n",
              "            color:  #000000;\n",
              "        }#T_d8b4f4ca_e4bd_11eb_90bc_0242ac1c0002row1_col2,#T_d8b4f4ca_e4bd_11eb_90bc_0242ac1c0002row1_col8{\n",
              "            background-color:  #7699f6;\n",
              "            color:  #000000;\n",
              "        }#T_d8b4f4ca_e4bd_11eb_90bc_0242ac1c0002row1_col3,#T_d8b4f4ca_e4bd_11eb_90bc_0242ac1c0002row8_col1{\n",
              "            background-color:  #5e7de7;\n",
              "            color:  #000000;\n",
              "        }#T_d8b4f4ca_e4bd_11eb_90bc_0242ac1c0002row1_col4,#T_d8b4f4ca_e4bd_11eb_90bc_0242ac1c0002row1_col7{\n",
              "            background-color:  #bbd1f8;\n",
              "            color:  #000000;\n",
              "        }#T_d8b4f4ca_e4bd_11eb_90bc_0242ac1c0002row1_col5{\n",
              "            background-color:  #c6d6f1;\n",
              "            color:  #000000;\n",
              "        }#T_d8b4f4ca_e4bd_11eb_90bc_0242ac1c0002row1_col6{\n",
              "            background-color:  #d3dbe7;\n",
              "            color:  #000000;\n",
              "        }#T_d8b4f4ca_e4bd_11eb_90bc_0242ac1c0002row2_col1{\n",
              "            background-color:  #3d50c3;\n",
              "            color:  #f1f1f1;\n",
              "        }#T_d8b4f4ca_e4bd_11eb_90bc_0242ac1c0002row2_col3,#T_d8b4f4ca_e4bd_11eb_90bc_0242ac1c0002row3_col2{\n",
              "            background-color:  #be242e;\n",
              "            color:  #f1f1f1;\n",
              "        }#T_d8b4f4ca_e4bd_11eb_90bc_0242ac1c0002row2_col4,#T_d8b4f4ca_e4bd_11eb_90bc_0242ac1c0002row3_col4{\n",
              "            background-color:  #f5c0a7;\n",
              "            color:  #000000;\n",
              "        }#T_d8b4f4ca_e4bd_11eb_90bc_0242ac1c0002row2_col5{\n",
              "            background-color:  #f7b194;\n",
              "            color:  #000000;\n",
              "        }#T_d8b4f4ca_e4bd_11eb_90bc_0242ac1c0002row2_col6{\n",
              "            background-color:  #90b2fe;\n",
              "            color:  #000000;\n",
              "        }#T_d8b4f4ca_e4bd_11eb_90bc_0242ac1c0002row2_col7{\n",
              "            background-color:  #85a8fc;\n",
              "            color:  #000000;\n",
              "        }#T_d8b4f4ca_e4bd_11eb_90bc_0242ac1c0002row2_col8{\n",
              "            background-color:  #dd5f4b;\n",
              "            color:  #000000;\n",
              "        }#T_d8b4f4ca_e4bd_11eb_90bc_0242ac1c0002row3_col0{\n",
              "            background-color:  #506bda;\n",
              "            color:  #000000;\n",
              "        }#T_d8b4f4ca_e4bd_11eb_90bc_0242ac1c0002row3_col5{\n",
              "            background-color:  #f7b497;\n",
              "            color:  #000000;\n",
              "        }#T_d8b4f4ca_e4bd_11eb_90bc_0242ac1c0002row3_col6{\n",
              "            background-color:  #92b4fe;\n",
              "            color:  #000000;\n",
              "        }#T_d8b4f4ca_e4bd_11eb_90bc_0242ac1c0002row3_col7,#T_d8b4f4ca_e4bd_11eb_90bc_0242ac1c0002row6_col3{\n",
              "            background-color:  #88abfd;\n",
              "            color:  #000000;\n",
              "        }#T_d8b4f4ca_e4bd_11eb_90bc_0242ac1c0002row3_col8{\n",
              "            background-color:  #e9785d;\n",
              "            color:  #000000;\n",
              "        }#T_d8b4f4ca_e4bd_11eb_90bc_0242ac1c0002row4_col0,#T_d8b4f4ca_e4bd_11eb_90bc_0242ac1c0002row7_col3{\n",
              "            background-color:  #a1c0ff;\n",
              "            color:  #000000;\n",
              "        }#T_d8b4f4ca_e4bd_11eb_90bc_0242ac1c0002row4_col1,#T_d8b4f4ca_e4bd_11eb_90bc_0242ac1c0002row7_col2{\n",
              "            background-color:  #b1cbfc;\n",
              "            color:  #000000;\n",
              "        }#T_d8b4f4ca_e4bd_11eb_90bc_0242ac1c0002row4_col2{\n",
              "            background-color:  #f7b093;\n",
              "            color:  #000000;\n",
              "        }#T_d8b4f4ca_e4bd_11eb_90bc_0242ac1c0002row4_col3{\n",
              "            background-color:  #f7b99e;\n",
              "            color:  #000000;\n",
              "        }#T_d8b4f4ca_e4bd_11eb_90bc_0242ac1c0002row4_col5,#T_d8b4f4ca_e4bd_11eb_90bc_0242ac1c0002row8_col2{\n",
              "            background-color:  #d95847;\n",
              "            color:  #000000;\n",
              "        }#T_d8b4f4ca_e4bd_11eb_90bc_0242ac1c0002row4_col6,#T_d8b4f4ca_e4bd_11eb_90bc_0242ac1c0002row8_col0{\n",
              "            background-color:  #5b7ae5;\n",
              "            color:  #000000;\n",
              "        }#T_d8b4f4ca_e4bd_11eb_90bc_0242ac1c0002row4_col7{\n",
              "            background-color:  #6687ed;\n",
              "            color:  #000000;\n",
              "        }#T_d8b4f4ca_e4bd_11eb_90bc_0242ac1c0002row4_col8{\n",
              "            background-color:  #f6bfa6;\n",
              "            color:  #000000;\n",
              "        }#T_d8b4f4ca_e4bd_11eb_90bc_0242ac1c0002row5_col0{\n",
              "            background-color:  #9fbfff;\n",
              "            color:  #000000;\n",
              "        }#T_d8b4f4ca_e4bd_11eb_90bc_0242ac1c0002row5_col1{\n",
              "            background-color:  #a5c3fe;\n",
              "            color:  #000000;\n",
              "        }#T_d8b4f4ca_e4bd_11eb_90bc_0242ac1c0002row5_col2,#T_d8b4f4ca_e4bd_11eb_90bc_0242ac1c0002row5_col8{\n",
              "            background-color:  #f7ad90;\n",
              "            color:  #000000;\n",
              "        }#T_d8b4f4ca_e4bd_11eb_90bc_0242ac1c0002row5_col3{\n",
              "            background-color:  #f7b89c;\n",
              "            color:  #000000;\n",
              "        }#T_d8b4f4ca_e4bd_11eb_90bc_0242ac1c0002row5_col4{\n",
              "            background-color:  #de614d;\n",
              "            color:  #000000;\n",
              "        }#T_d8b4f4ca_e4bd_11eb_90bc_0242ac1c0002row6_col0{\n",
              "            background-color:  #f1cdba;\n",
              "            color:  #000000;\n",
              "        }#T_d8b4f4ca_e4bd_11eb_90bc_0242ac1c0002row6_col1{\n",
              "            background-color:  #b7cff9;\n",
              "            color:  #000000;\n",
              "        }#T_d8b4f4ca_e4bd_11eb_90bc_0242ac1c0002row6_col2{\n",
              "            background-color:  #98b9ff;\n",
              "            color:  #000000;\n",
              "        }#T_d8b4f4ca_e4bd_11eb_90bc_0242ac1c0002row6_col7{\n",
              "            background-color:  #c53334;\n",
              "            color:  #f1f1f1;\n",
              "        }#T_d8b4f4ca_e4bd_11eb_90bc_0242ac1c0002row6_col8{\n",
              "            background-color:  #7093f3;\n",
              "            color:  #000000;\n",
              "        }#T_d8b4f4ca_e4bd_11eb_90bc_0242ac1c0002row7_col0{\n",
              "            background-color:  #e8d6cc;\n",
              "            color:  #000000;\n",
              "        }#T_d8b4f4ca_e4bd_11eb_90bc_0242ac1c0002row7_col1{\n",
              "            background-color:  #b6cefa;\n",
              "            color:  #000000;\n",
              "        }#T_d8b4f4ca_e4bd_11eb_90bc_0242ac1c0002row7_col4{\n",
              "            background-color:  #6e90f2;\n",
              "            color:  #000000;\n",
              "        }#T_d8b4f4ca_e4bd_11eb_90bc_0242ac1c0002row7_col5{\n",
              "            background-color:  #6384eb;\n",
              "            color:  #000000;\n",
              "        }#T_d8b4f4ca_e4bd_11eb_90bc_0242ac1c0002row7_col6{\n",
              "            background-color:  #c32e31;\n",
              "            color:  #f1f1f1;\n",
              "        }#T_d8b4f4ca_e4bd_11eb_90bc_0242ac1c0002row7_col8{\n",
              "            background-color:  #8caffe;\n",
              "            color:  #000000;\n",
              "        }#T_d8b4f4ca_e4bd_11eb_90bc_0242ac1c0002row8_col3{\n",
              "            background-color:  #e7745b;\n",
              "            color:  #000000;\n",
              "        }#T_d8b4f4ca_e4bd_11eb_90bc_0242ac1c0002row8_col4{\n",
              "            background-color:  #f5c2aa;\n",
              "            color:  #000000;\n",
              "        }#T_d8b4f4ca_e4bd_11eb_90bc_0242ac1c0002row8_col5{\n",
              "            background-color:  #f6a586;\n",
              "            color:  #000000;\n",
              "        }#T_d8b4f4ca_e4bd_11eb_90bc_0242ac1c0002row8_col6{\n",
              "            background-color:  #86a9fc;\n",
              "            color:  #000000;\n",
              "        }#T_d8b4f4ca_e4bd_11eb_90bc_0242ac1c0002row8_col7{\n",
              "            background-color:  #7b9ff9;\n",
              "            color:  #000000;\n",
              "        }</style><table id=\"T_d8b4f4ca_e4bd_11eb_90bc_0242ac1c0002\" ><thead>    <tr>        <th class=\"blank level0\" ></th>        <th class=\"col_heading level0 col0\" > Mean of the integrated profile</th>        <th class=\"col_heading level0 col1\" > Standard deviation of the integrated profile</th>        <th class=\"col_heading level0 col2\" > Excess kurtosis of the integrated profile</th>        <th class=\"col_heading level0 col3\" > Skewness of the integrated profile</th>        <th class=\"col_heading level0 col4\" > Mean of the DM-SNR curve</th>        <th class=\"col_heading level0 col5\" > Standard deviation of the DM-SNR curve</th>        <th class=\"col_heading level0 col6\" > Excess kurtosis of the DM-SNR curve</th>        <th class=\"col_heading level0 col7\" > Skewness of the DM-SNR curve</th>        <th class=\"col_heading level0 col8\" >target_class</th>    </tr></thead><tbody>\n",
              "                <tr>\n",
              "                        <th id=\"T_d8b4f4ca_e4bd_11eb_90bc_0242ac1c0002level0_row0\" class=\"row_heading level0 row0\" > Mean of the integrated profile</th>\n",
              "                        <td id=\"T_d8b4f4ca_e4bd_11eb_90bc_0242ac1c0002row0_col0\" class=\"data row0 col0\" >1.00</td>\n",
              "                        <td id=\"T_d8b4f4ca_e4bd_11eb_90bc_0242ac1c0002row0_col1\" class=\"data row0 col1\" >0.55</td>\n",
              "                        <td id=\"T_d8b4f4ca_e4bd_11eb_90bc_0242ac1c0002row0_col2\" class=\"data row0 col2\" >-0.88</td>\n",
              "                        <td id=\"T_d8b4f4ca_e4bd_11eb_90bc_0242ac1c0002row0_col3\" class=\"data row0 col3\" >-0.74</td>\n",
              "                        <td id=\"T_d8b4f4ca_e4bd_11eb_90bc_0242ac1c0002row0_col4\" class=\"data row0 col4\" >-0.30</td>\n",
              "                        <td id=\"T_d8b4f4ca_e4bd_11eb_90bc_0242ac1c0002row0_col5\" class=\"data row0 col5\" >-0.31</td>\n",
              "                        <td id=\"T_d8b4f4ca_e4bd_11eb_90bc_0242ac1c0002row0_col6\" class=\"data row0 col6\" >0.24</td>\n",
              "                        <td id=\"T_d8b4f4ca_e4bd_11eb_90bc_0242ac1c0002row0_col7\" class=\"data row0 col7\" >0.14</td>\n",
              "                        <td id=\"T_d8b4f4ca_e4bd_11eb_90bc_0242ac1c0002row0_col8\" class=\"data row0 col8\" >-0.68</td>\n",
              "            </tr>\n",
              "            <tr>\n",
              "                        <th id=\"T_d8b4f4ca_e4bd_11eb_90bc_0242ac1c0002level0_row1\" class=\"row_heading level0 row1\" > Standard deviation of the integrated profile</th>\n",
              "                        <td id=\"T_d8b4f4ca_e4bd_11eb_90bc_0242ac1c0002row1_col0\" class=\"data row1 col0\" >0.55</td>\n",
              "                        <td id=\"T_d8b4f4ca_e4bd_11eb_90bc_0242ac1c0002row1_col1\" class=\"data row1 col1\" >1.00</td>\n",
              "                        <td id=\"T_d8b4f4ca_e4bd_11eb_90bc_0242ac1c0002row1_col2\" class=\"data row1 col2\" >-0.52</td>\n",
              "                        <td id=\"T_d8b4f4ca_e4bd_11eb_90bc_0242ac1c0002row1_col3\" class=\"data row1 col3\" >-0.54</td>\n",
              "                        <td id=\"T_d8b4f4ca_e4bd_11eb_90bc_0242ac1c0002row1_col4\" class=\"data row1 col4\" >0.01</td>\n",
              "                        <td id=\"T_d8b4f4ca_e4bd_11eb_90bc_0242ac1c0002row1_col5\" class=\"data row1 col5\" >-0.05</td>\n",
              "                        <td id=\"T_d8b4f4ca_e4bd_11eb_90bc_0242ac1c0002row1_col6\" class=\"data row1 col6\" >0.03</td>\n",
              "                        <td id=\"T_d8b4f4ca_e4bd_11eb_90bc_0242ac1c0002row1_col7\" class=\"data row1 col7\" >0.03</td>\n",
              "                        <td id=\"T_d8b4f4ca_e4bd_11eb_90bc_0242ac1c0002row1_col8\" class=\"data row1 col8\" >-0.37</td>\n",
              "            </tr>\n",
              "            <tr>\n",
              "                        <th id=\"T_d8b4f4ca_e4bd_11eb_90bc_0242ac1c0002level0_row2\" class=\"row_heading level0 row2\" > Excess kurtosis of the integrated profile</th>\n",
              "                        <td id=\"T_d8b4f4ca_e4bd_11eb_90bc_0242ac1c0002row2_col0\" class=\"data row2 col0\" >-0.88</td>\n",
              "                        <td id=\"T_d8b4f4ca_e4bd_11eb_90bc_0242ac1c0002row2_col1\" class=\"data row2 col1\" >-0.52</td>\n",
              "                        <td id=\"T_d8b4f4ca_e4bd_11eb_90bc_0242ac1c0002row2_col2\" class=\"data row2 col2\" >1.00</td>\n",
              "                        <td id=\"T_d8b4f4ca_e4bd_11eb_90bc_0242ac1c0002row2_col3\" class=\"data row2 col3\" >0.95</td>\n",
              "                        <td id=\"T_d8b4f4ca_e4bd_11eb_90bc_0242ac1c0002row2_col4\" class=\"data row2 col4\" >0.41</td>\n",
              "                        <td id=\"T_d8b4f4ca_e4bd_11eb_90bc_0242ac1c0002row2_col5\" class=\"data row2 col5\" >0.43</td>\n",
              "                        <td id=\"T_d8b4f4ca_e4bd_11eb_90bc_0242ac1c0002row2_col6\" class=\"data row2 col6\" >-0.34</td>\n",
              "                        <td id=\"T_d8b4f4ca_e4bd_11eb_90bc_0242ac1c0002row2_col7\" class=\"data row2 col7\" >-0.22</td>\n",
              "                        <td id=\"T_d8b4f4ca_e4bd_11eb_90bc_0242ac1c0002row2_col8\" class=\"data row2 col8\" >0.79</td>\n",
              "            </tr>\n",
              "            <tr>\n",
              "                        <th id=\"T_d8b4f4ca_e4bd_11eb_90bc_0242ac1c0002level0_row3\" class=\"row_heading level0 row3\" > Skewness of the integrated profile</th>\n",
              "                        <td id=\"T_d8b4f4ca_e4bd_11eb_90bc_0242ac1c0002row3_col0\" class=\"data row3 col0\" >-0.74</td>\n",
              "                        <td id=\"T_d8b4f4ca_e4bd_11eb_90bc_0242ac1c0002row3_col1\" class=\"data row3 col1\" >-0.54</td>\n",
              "                        <td id=\"T_d8b4f4ca_e4bd_11eb_90bc_0242ac1c0002row3_col2\" class=\"data row3 col2\" >0.95</td>\n",
              "                        <td id=\"T_d8b4f4ca_e4bd_11eb_90bc_0242ac1c0002row3_col3\" class=\"data row3 col3\" >1.00</td>\n",
              "                        <td id=\"T_d8b4f4ca_e4bd_11eb_90bc_0242ac1c0002row3_col4\" class=\"data row3 col4\" >0.41</td>\n",
              "                        <td id=\"T_d8b4f4ca_e4bd_11eb_90bc_0242ac1c0002row3_col5\" class=\"data row3 col5\" >0.42</td>\n",
              "                        <td id=\"T_d8b4f4ca_e4bd_11eb_90bc_0242ac1c0002row3_col6\" class=\"data row3 col6\" >-0.33</td>\n",
              "                        <td id=\"T_d8b4f4ca_e4bd_11eb_90bc_0242ac1c0002row3_col7\" class=\"data row3 col7\" >-0.21</td>\n",
              "                        <td id=\"T_d8b4f4ca_e4bd_11eb_90bc_0242ac1c0002row3_col8\" class=\"data row3 col8\" >0.71</td>\n",
              "            </tr>\n",
              "            <tr>\n",
              "                        <th id=\"T_d8b4f4ca_e4bd_11eb_90bc_0242ac1c0002level0_row4\" class=\"row_heading level0 row4\" > Mean of the DM-SNR curve</th>\n",
              "                        <td id=\"T_d8b4f4ca_e4bd_11eb_90bc_0242ac1c0002row4_col0\" class=\"data row4 col0\" >-0.30</td>\n",
              "                        <td id=\"T_d8b4f4ca_e4bd_11eb_90bc_0242ac1c0002row4_col1\" class=\"data row4 col1\" >0.01</td>\n",
              "                        <td id=\"T_d8b4f4ca_e4bd_11eb_90bc_0242ac1c0002row4_col2\" class=\"data row4 col2\" >0.41</td>\n",
              "                        <td id=\"T_d8b4f4ca_e4bd_11eb_90bc_0242ac1c0002row4_col3\" class=\"data row4 col3\" >0.41</td>\n",
              "                        <td id=\"T_d8b4f4ca_e4bd_11eb_90bc_0242ac1c0002row4_col4\" class=\"data row4 col4\" >1.00</td>\n",
              "                        <td id=\"T_d8b4f4ca_e4bd_11eb_90bc_0242ac1c0002row4_col5\" class=\"data row4 col5\" >0.80</td>\n",
              "                        <td id=\"T_d8b4f4ca_e4bd_11eb_90bc_0242ac1c0002row4_col6\" class=\"data row4 col6\" >-0.62</td>\n",
              "                        <td id=\"T_d8b4f4ca_e4bd_11eb_90bc_0242ac1c0002row4_col7\" class=\"data row4 col7\" >-0.36</td>\n",
              "                        <td id=\"T_d8b4f4ca_e4bd_11eb_90bc_0242ac1c0002row4_col8\" class=\"data row4 col8\" >0.40</td>\n",
              "            </tr>\n",
              "            <tr>\n",
              "                        <th id=\"T_d8b4f4ca_e4bd_11eb_90bc_0242ac1c0002level0_row5\" class=\"row_heading level0 row5\" > Standard deviation of the DM-SNR curve</th>\n",
              "                        <td id=\"T_d8b4f4ca_e4bd_11eb_90bc_0242ac1c0002row5_col0\" class=\"data row5 col0\" >-0.31</td>\n",
              "                        <td id=\"T_d8b4f4ca_e4bd_11eb_90bc_0242ac1c0002row5_col1\" class=\"data row5 col1\" >-0.05</td>\n",
              "                        <td id=\"T_d8b4f4ca_e4bd_11eb_90bc_0242ac1c0002row5_col2\" class=\"data row5 col2\" >0.43</td>\n",
              "                        <td id=\"T_d8b4f4ca_e4bd_11eb_90bc_0242ac1c0002row5_col3\" class=\"data row5 col3\" >0.42</td>\n",
              "                        <td id=\"T_d8b4f4ca_e4bd_11eb_90bc_0242ac1c0002row5_col4\" class=\"data row5 col4\" >0.80</td>\n",
              "                        <td id=\"T_d8b4f4ca_e4bd_11eb_90bc_0242ac1c0002row5_col5\" class=\"data row5 col5\" >1.00</td>\n",
              "                        <td id=\"T_d8b4f4ca_e4bd_11eb_90bc_0242ac1c0002row5_col6\" class=\"data row5 col6\" >-0.81</td>\n",
              "                        <td id=\"T_d8b4f4ca_e4bd_11eb_90bc_0242ac1c0002row5_col7\" class=\"data row5 col7\" >-0.58</td>\n",
              "                        <td id=\"T_d8b4f4ca_e4bd_11eb_90bc_0242ac1c0002row5_col8\" class=\"data row5 col8\" >0.49</td>\n",
              "            </tr>\n",
              "            <tr>\n",
              "                        <th id=\"T_d8b4f4ca_e4bd_11eb_90bc_0242ac1c0002level0_row6\" class=\"row_heading level0 row6\" > Excess kurtosis of the DM-SNR curve</th>\n",
              "                        <td id=\"T_d8b4f4ca_e4bd_11eb_90bc_0242ac1c0002row6_col0\" class=\"data row6 col0\" >0.24</td>\n",
              "                        <td id=\"T_d8b4f4ca_e4bd_11eb_90bc_0242ac1c0002row6_col1\" class=\"data row6 col1\" >0.03</td>\n",
              "                        <td id=\"T_d8b4f4ca_e4bd_11eb_90bc_0242ac1c0002row6_col2\" class=\"data row6 col2\" >-0.34</td>\n",
              "                        <td id=\"T_d8b4f4ca_e4bd_11eb_90bc_0242ac1c0002row6_col3\" class=\"data row6 col3\" >-0.33</td>\n",
              "                        <td id=\"T_d8b4f4ca_e4bd_11eb_90bc_0242ac1c0002row6_col4\" class=\"data row6 col4\" >-0.62</td>\n",
              "                        <td id=\"T_d8b4f4ca_e4bd_11eb_90bc_0242ac1c0002row6_col5\" class=\"data row6 col5\" >-0.81</td>\n",
              "                        <td id=\"T_d8b4f4ca_e4bd_11eb_90bc_0242ac1c0002row6_col6\" class=\"data row6 col6\" >1.00</td>\n",
              "                        <td id=\"T_d8b4f4ca_e4bd_11eb_90bc_0242ac1c0002row6_col7\" class=\"data row6 col7\" >0.92</td>\n",
              "                        <td id=\"T_d8b4f4ca_e4bd_11eb_90bc_0242ac1c0002row6_col8\" class=\"data row6 col8\" >-0.39</td>\n",
              "            </tr>\n",
              "            <tr>\n",
              "                        <th id=\"T_d8b4f4ca_e4bd_11eb_90bc_0242ac1c0002level0_row7\" class=\"row_heading level0 row7\" > Skewness of the DM-SNR curve</th>\n",
              "                        <td id=\"T_d8b4f4ca_e4bd_11eb_90bc_0242ac1c0002row7_col0\" class=\"data row7 col0\" >0.14</td>\n",
              "                        <td id=\"T_d8b4f4ca_e4bd_11eb_90bc_0242ac1c0002row7_col1\" class=\"data row7 col1\" >0.03</td>\n",
              "                        <td id=\"T_d8b4f4ca_e4bd_11eb_90bc_0242ac1c0002row7_col2\" class=\"data row7 col2\" >-0.22</td>\n",
              "                        <td id=\"T_d8b4f4ca_e4bd_11eb_90bc_0242ac1c0002row7_col3\" class=\"data row7 col3\" >-0.21</td>\n",
              "                        <td id=\"T_d8b4f4ca_e4bd_11eb_90bc_0242ac1c0002row7_col4\" class=\"data row7 col4\" >-0.36</td>\n",
              "                        <td id=\"T_d8b4f4ca_e4bd_11eb_90bc_0242ac1c0002row7_col5\" class=\"data row7 col5\" >-0.58</td>\n",
              "                        <td id=\"T_d8b4f4ca_e4bd_11eb_90bc_0242ac1c0002row7_col6\" class=\"data row7 col6\" >0.92</td>\n",
              "                        <td id=\"T_d8b4f4ca_e4bd_11eb_90bc_0242ac1c0002row7_col7\" class=\"data row7 col7\" >1.00</td>\n",
              "                        <td id=\"T_d8b4f4ca_e4bd_11eb_90bc_0242ac1c0002row7_col8\" class=\"data row7 col8\" >-0.26</td>\n",
              "            </tr>\n",
              "            <tr>\n",
              "                        <th id=\"T_d8b4f4ca_e4bd_11eb_90bc_0242ac1c0002level0_row8\" class=\"row_heading level0 row8\" >target_class</th>\n",
              "                        <td id=\"T_d8b4f4ca_e4bd_11eb_90bc_0242ac1c0002row8_col0\" class=\"data row8 col0\" >-0.68</td>\n",
              "                        <td id=\"T_d8b4f4ca_e4bd_11eb_90bc_0242ac1c0002row8_col1\" class=\"data row8 col1\" >-0.37</td>\n",
              "                        <td id=\"T_d8b4f4ca_e4bd_11eb_90bc_0242ac1c0002row8_col2\" class=\"data row8 col2\" >0.79</td>\n",
              "                        <td id=\"T_d8b4f4ca_e4bd_11eb_90bc_0242ac1c0002row8_col3\" class=\"data row8 col3\" >0.71</td>\n",
              "                        <td id=\"T_d8b4f4ca_e4bd_11eb_90bc_0242ac1c0002row8_col4\" class=\"data row8 col4\" >0.40</td>\n",
              "                        <td id=\"T_d8b4f4ca_e4bd_11eb_90bc_0242ac1c0002row8_col5\" class=\"data row8 col5\" >0.49</td>\n",
              "                        <td id=\"T_d8b4f4ca_e4bd_11eb_90bc_0242ac1c0002row8_col6\" class=\"data row8 col6\" >-0.39</td>\n",
              "                        <td id=\"T_d8b4f4ca_e4bd_11eb_90bc_0242ac1c0002row8_col7\" class=\"data row8 col7\" >-0.26</td>\n",
              "                        <td id=\"T_d8b4f4ca_e4bd_11eb_90bc_0242ac1c0002row8_col8\" class=\"data row8 col8\" >1.00</td>\n",
              "            </tr>\n",
              "    </tbody></table>"
            ],
            "text/plain": [
              "<pandas.io.formats.style.Styler at 0x7f253ae16990>"
            ]
          },
          "metadata": {
            "tags": []
          },
          "execution_count": 90
        }
      ]
    },
    {
      "cell_type": "markdown",
      "metadata": {
        "id": "FMGCos5csnL6"
      },
      "source": [
        "Possiamo notare che sia la skewness e la kurtosis (0,95 per l'integrated profile e 0,92 per la DM-SNR curve) che la mean e la standard deviation (0,55 per l'integrated profile e 0,80 per la DM-SNR curve) sono estremamente correlate tra loro.\n",
        "\n",
        "Essendo che i nostri parametri sono ricavati dall'applicazione di funzioni statistiche su due grandezze fisiche, era aspettato trovare due blocchi di forte correlazione all'interno della matrice.\n",
        "\n",
        "Possiamo notare come la kurtosis e la skewness of the integrated profile siano estremamente importanti per determinare la target_class, mentre la mean e la standard deviation della DM-SNR curve sono meno importanti, ma comunque molto rilevanti. Anche la mean of integrated profile ha una correlazione significativa (-0,68), cioè ha una forte correlazione inversa.\n",
        "\n",
        "Notiamo che nessun attributo ha un indice di correlazione con la target_class vicino allo 0, ciò significa che sono tutti importanti nella determinazione della classe."
      ]
    },
    {
      "cell_type": "markdown",
      "metadata": {
        "id": "iTjBRUgS-l4h"
      },
      "source": [
        "####Dendrogramma"
      ]
    },
    {
      "cell_type": "markdown",
      "metadata": {
        "id": "o_dUfjXNJ9Oj"
      },
      "source": [
        "###Suddivisione del dataset e normalizzazione dei dati\n",
        "\n",
        "Per evitare \"data leakage\" è importante eseguire ogni trasformazione dopo la separazione dei dati. Il test set deve simulare dei dati reali acquisiti dopo l'addestramento del nostro modello, quindi non può essere utilizzato in nessun caso insieme al train set.\n",
        "\n",
        "Molte volte i dataset contengono dei dati che variano molto rispetto alla media in termini di grandezza. Molti algoritmi di classificazione utilizzano la distanza euclidea per misurare la distanza tra due dati, quindi delle distanze troppo grandi possono causare dei problemi.\n",
        "\n",
        "Per questo motivo, due features diverse possono influenzare in maniera diversa il classificatore in base all'unità di misura. Per esempio una features i cui valori sono dell'ordine delle migliaia (900, 5000, 2000) avrà un peso maggiore di una feature con valori nell'ordine delle unità (0,1, 10, 100) anche se in percentuale la variazione della prima risulterebbe essere minore rispetto alla seconda.\n",
        "\n",
        "Per ovviare a questo problema utilizzeremo lo StandardScaler, che normalizzerà i nostri dati sottraendogli la media e dividendoli per lo scarto quadratico medio:\n",
        "$x' = \\frac{x - \\mu_x}{\\sigma_x}$\n",
        "\n",
        "La normalizzazione verrà eseguita dopo la suddivisione dei dati, perchè il test set non deve essere influenzato in alcun modo dal train set e, eseguendo la normalizzazione sull'intero dataset, lo influenzerei tramite la media e la varianza del dataset intero.\n"
      ]
    },
    {
      "cell_type": "code",
      "metadata": {
        "id": "OYgY4lbSKJHL"
      },
      "source": [
        "def normalize(X_set):\n",
        "  scaler = StandardScaler(with_mean=True, with_std=True, copy=True)\n",
        "  return scaler.fit_transform(X_set)\n",
        "\n",
        "X_dataset = data.drop(['target_class'], axis=1)\n",
        "y_data = data['target_class']\n",
        "X_train, X_test, y_train, y_test = train_test_split(X_scaled_data,y_data, test_size=0.2, random_state=42, stratify=y_data)\n",
        "X_train_norm = normalize(X_train)\n",
        "X_test_norm = normalize(X_test)"
      ],
      "execution_count": null,
      "outputs": []
    },
    {
      "cell_type": "markdown",
      "metadata": {
        "id": "ks_p_6K73NOl"
      },
      "source": [
        "<a name=\"PCA\"></a>\n",
        "##Principal Component Analysis"
      ]
    },
    {
      "cell_type": "markdown",
      "metadata": {
        "id": "4kJXZvriSX7f"
      },
      "source": [
        "//TODO Vedere se è da fare prima PCA o prima il bilanciamento dei dataset \n",
        "\n",
        "https://stats.stackexchange.com/questions/7256/which-one-should-be-applied-first-data-sampling-or-dimensionality-reduction\n",
        "\n",
        "https://stats.stackexchange.com/questions/31832/how-to-handle-data-imbalance-in-principal-component-analysis"
      ]
    },
    {
      "cell_type": "markdown",
      "metadata": {
        "id": "mbowA3FtBA8v"
      },
      "source": [
        "##Bilanciamento Dataset \n",
        "//***TODO***: spiegare perchè ho scelto di usare pipeline e spiegare che si bilancia solo il train\n",
        "\n",
        "Esistono diverse tecniche per bilanciare il dataset:\n",
        "- **oversampling:** tecnica che consente di creare dei campioni appartenenti alla classe con meno record;\n",
        "- **undersampling:** tecnica che consente di rimuovere dei campioni appartenenti alla classe con più record;\n",
        "- **class weight:** tecnica che consente di bilanciare il dataset inserendo un parametro chiamato \"weight\" all'interno del dataset, che contiene i pesi delle varie classi del dataset. Il peso viene assegnato in base alla proporzione tra il numero di parametri della classe più grande e il numero di parametri della classe più piccola. (per esempio W = 1 per la classe \"0\" e W = 10 per la classe \"1\") \n",
        "Durante la fase di train i vari record influenzeranno il modello in proporzione al peso assegnatogli.\n",
        "Questa è la soluzione meno invasiva, perché non modifica il dataset ma solamente il modo in cui i record agiscono sul modello.\n",
        "-**pipeline**: questa tecnica consiste nell'applicare sia l'oversampling sul dataset più piccolo, che l'undersampling sul dataset più grande.\n",
        "\n",
        "Per bilanciare questo dataset ho optato per la tecnica della pipeline, nella quale procederò a modificare i record di entrambe le classi.\n",
        "//https://towardsdatascience.com/how-to-deal-with-imbalanced-data-in-python-f9b71aba53eb\n",
        "\n",
        "Per capire quale sia il ratio migliore inserirò la procedura di train in un for, utilizzando per l'oversampling i valori [ 0.3 , 0.4 , 0.5 ] e per l'undersampling [ 0.7 , 0.6 , 0.5 ].\n",
        "Sarà da selezionare la coppia con il valore ROC AUC maggiore.\n",
        "\n"
      ]
    },
    {
      "cell_type": "code",
      "metadata": {
        "id": "dwGii8SeR9R-"
      },
      "source": [
        "#dividere il dataset in train test e valid secondo un ratio da scegliere con la cross validation (?)\n",
        "training_set = dataset"
      ],
      "execution_count": null,
      "outputs": []
    },
    {
      "cell_type": "code",
      "metadata": {
        "id": "sEl3FLas68f4"
      },
      "source": [
        "#Bilanciamento dataset. da fare solo sul training set\n",
        "\n",
        "x = training_set.iloc[:,:-1]\n",
        "y = training_set.iloc[:,-1]\n",
        "\n",
        "over_ratio = [0.3,0.4,0.5]\n",
        "under_ratio = [0.7,0.6,0.5]\n",
        "hi_score = 0\n",
        "best_ratio = (0,0)\n",
        "for o in over_ratio:\n",
        "  for u in under_ratio:\n",
        "    model = SVC()\n",
        "    over = SMOTE(sampling_strategy=o)\n",
        "    under = RandomUnderSampler(sampling_strategy=u)\n",
        "    steps = [('over', over), ('under', under), ('model', model)]\n",
        "    pipeline = Pipeline(steps=steps)\n",
        "    # evaluate pipeline\n",
        "    scores = cross_val_score(pipeline, x, y, scoring='roc_auc', cv=5, n_jobs=-1)\n",
        "    score = mean(scores)\n",
        "    if score > hi_score:\n",
        "      hi_score = score\n",
        "      best_ratio = (o,u)\n",
        "      print(\"cambio ratio {0} {1} \".format(o,u))\n",
        "    print('SMOTE oversampling rate:%.1f, Random undersampling rate:%.1f , Mean ROC AUC: %.3f' % (o, u, score))\n",
        "print(\"Il ratio che restituisce un punteggio maggiore è (oversampling: {0},undersampling: {1})\".format(o,u))"
      ],
      "execution_count": null,
      "outputs": []
    },
    {
      "cell_type": "markdown",
      "metadata": {
        "id": "k_bhwb39L4MI"
      },
      "source": [
        "//TODO: Spiegare cos'è SMOTE e Random Undersampling, come funzionma la pipeline, cos'è il ROC AUC score, cos'è e come mai ho scelto SVC come modello e quale ratio ho scelto. Magari fare un grafico con i vari score e provare con diversi modelli facendo una media degli score per ognuno di essi. \n",
        "\n",
        "//Sono da fare prima le trasformazioni orizzontali (bilanciamento dataset) o verticali (PCA)?\n",
        "\n",
        "**SMOTE** (Synthetic Minority Oversampling Technique), è una tecnica\n",
        "\n",
        "**Random Undersampling:**\n",
        "\n",
        "**Pipeline:**\n",
        "\n",
        "**ROC AUC Score:**\n",
        "\n",
        "**SVC:**"
      ]
    },
    {
      "cell_type": "markdown",
      "metadata": {
        "id": "2S2kOCfG3x2j"
      },
      "source": [
        "##Classificazione"
      ]
    }
  ]
}